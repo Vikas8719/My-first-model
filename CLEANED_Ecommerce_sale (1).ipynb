{
  "cells": [
    {
      "cell_type": "code",
      "source": [
        "import numpy as np\n",
        "import pandas as pd\n",
        "import matplotlib.pyplot as plt\n",
        "import seaborn as sns\n",
        "import warnings\n",
        "warnings.filterwarnings('ignore')\n",
        "from sklearn.preprocessing import LabelEncoder,OneHotEncoder\n",
        "from sklearn.model_selection import train_test_split\n",
        "from sklearn.preprocessing import StandardScaler\n",
        "from sklearn.ensemble import RandomForestRegressor\n",
        "from sklearn.metrics import accuracy_score,confusion_matrix,classification_report"
      ],
      "metadata": {
        "id": "frxfEZN4QReg"
      },
      "execution_count": null,
      "outputs": []
    },
    {
      "cell_type": "code",
      "source": [
        "df=pd.read_csv(r'/content/Ecommerce_Sales_Data_2024_2025.csv')\n"
      ],
      "metadata": {
        "id": "xUHQY8ht1VvP"
      },
      "execution_count": null,
      "outputs": []
    },
    {
      "cell_type": "code",
      "source": [
        "df.head()"
      ],
      "metadata": {
        "id": "K-JCTojHcaao",
        "colab": {
          "base_uri": "https://localhost:8080/",
          "height": 206
        },
        "outputId": "d7a33758-ae7d-4bbc-c919-15c1f81baf5c"
      },
      "execution_count": null,
      "outputs": []
    },
    {
      "cell_type": "code",
      "source": [
        "df.shape"
      ],
      "metadata": {
        "id": "ekCFVnxxcadS",
        "colab": {
          "base_uri": "https://localhost:8080/"
        },
        "outputId": "81eb1452-cf20-43fd-b6cd-4be4121d3c52"
      },
      "execution_count": null,
      "outputs": []
    },
    {
      "cell_type": "code",
      "source": [
        "df.columns"
      ],
      "metadata": {
        "id": "nXCpyWrZcafn",
        "colab": {
          "base_uri": "https://localhost:8080/"
        },
        "outputId": "a0a82444-e0b0-4f3f-f451-1ba14235b726"
      },
      "execution_count": null,
      "outputs": []
    },
    {
      "cell_type": "code",
      "source": [
        "df.info()"
      ],
      "metadata": {
        "id": "JiZKhX83caiF",
        "colab": {
          "base_uri": "https://localhost:8080/"
        },
        "outputId": "8a001ba9-cc24-450d-eb75-b49c539a766a"
      },
      "execution_count": null,
      "outputs": []
    },
    {
      "cell_type": "code",
      "source": [
        "df.describe()"
      ],
      "metadata": {
        "id": "HgGsdqDccakj",
        "colab": {
          "base_uri": "https://localhost:8080/",
          "height": 300
        },
        "outputId": "7bdb1f60-b21d-41db-c773-2764c5f6f136"
      },
      "execution_count": null,
      "outputs": []
    },
    {
      "cell_type": "code",
      "source": [
        "df.isnull().sum()"
      ],
      "metadata": {
        "id": "DJfRrotWcanP",
        "colab": {
          "base_uri": "https://localhost:8080/",
          "height": 523
        },
        "outputId": "09a27b0e-404c-45ac-a018-b842b08405b7"
      },
      "execution_count": null,
      "outputs": []
    },
    {
      "cell_type": "code",
      "source": [
        "df.duplicated().sum()"
      ],
      "metadata": {
        "id": "DnaAmA-3cap1",
        "colab": {
          "base_uri": "https://localhost:8080/"
        },
        "outputId": "0aadc480-6e21-451f-a5e3-7c844876f906"
      },
      "execution_count": null,
      "outputs": []
    },
    {
      "cell_type": "code",
      "source": [
        "df.nunique()"
      ],
      "metadata": {
        "id": "7_2-XA9icasZ",
        "colab": {
          "base_uri": "https://localhost:8080/",
          "height": 523
        },
        "outputId": "94e33198-5c19-4853-963d-278f41449d32"
      },
      "execution_count": null,
      "outputs": []
    },
    {
      "cell_type": "code",
      "source": [
        "df.drop(['Customer Name','Order ID'],inplace=True,axis=1)"
      ],
      "metadata": {
        "id": "X8X7xczNcavB"
      },
      "execution_count": null,
      "outputs": []
    },
    {
      "cell_type": "code",
      "source": [
        "df.head()"
      ],
      "metadata": {
        "id": "fHYiQRspcaxn",
        "colab": {
          "base_uri": "https://localhost:8080/",
          "height": 206
        },
        "outputId": "409b79a6-6174-4125-cc64-7d4ca007bd52"
      },
      "execution_count": null,
      "outputs": []
    },
    {
      "cell_type": "code",
      "source": [
        "numeric_columns=['Unit Price','Discount','Sales','Profit']"
      ],
      "metadata": {
        "id": "iaykXJDwca0F"
      },
      "execution_count": null,
      "outputs": []
    },
    {
      "cell_type": "code",
      "source": [
        "for col in numeric_columns:\n",
        "  plt.figure(figsize=(8,6))\n",
        "  sns.histplot(df[col],kde=True,bins=30)\n"
      ],
      "metadata": {
        "id": "LdXZAdcZca2s",
        "colab": {
          "base_uri": "https://localhost:8080/",
          "height": 1000
        },
        "outputId": "49361256-2a90-4bfb-8bf1-4c69c6d00893"
      },
      "execution_count": null,
      "outputs": []
    },
    {
      "cell_type": "code",
      "source": [
        "sns.countplot(x=df['Category'])\n",
        "plt.xticks(rotation=90)\n",
        "plt.tight_layout()"
      ],
      "metadata": {
        "id": "_rWa5tuqca5X",
        "colab": {
          "base_uri": "https://localhost:8080/",
          "height": 487
        },
        "outputId": "4bba63ae-1e6d-40b2-b759-1ca9421673ab"
      },
      "execution_count": null,
      "outputs": []
    },
    {
      "cell_type": "code",
      "source": [
        "sns.countplot(x=df['Sub-Category'])\n",
        "plt.tight_layout()\n",
        "plt.xticks(rotation=90)"
      ],
      "metadata": {
        "id": "Z9HexRrAmJZh",
        "colab": {
          "base_uri": "https://localhost:8080/",
          "height": 1000
        },
        "outputId": "b88c4299-bb7a-46de-8732-ff4527ecf6f2"
      },
      "execution_count": null,
      "outputs": []
    },
    {
      "cell_type": "code",
      "source": [
        "sns.countplot(x=df['Region'])\n"
      ],
      "metadata": {
        "id": "hyxpUaYmmPzX",
        "colab": {
          "base_uri": "https://localhost:8080/",
          "height": 466
        },
        "outputId": "1b691d41-2aa4-498c-d871-53ceb3c70899"
      },
      "execution_count": null,
      "outputs": []
    },
    {
      "cell_type": "code",
      "source": [
        "for col in numeric_columns:\n",
        "  plt.figure(figsize=(8,6))\n",
        "  sns.boxplot(x=df[col])"
      ],
      "metadata": {
        "id": "GEZ93urGo50V",
        "colab": {
          "base_uri": "https://localhost:8080/",
          "height": 1000
        },
        "outputId": "3562eec6-2283-4090-911a-0cfd2e09079d"
      },
      "execution_count": null,
      "outputs": []
    },
    {
      "cell_type": "code",
      "source": [
        "plt.figure(figsize=(10,8))\n",
        "sns.heatmap(df.corr(numeric_only=True),annot=True)\n",
        "\n"
      ],
      "metadata": {
        "id": "cfah4Jqpm3M8",
        "colab": {
          "base_uri": "https://localhost:8080/",
          "height": 699
        },
        "outputId": "38de1b2b-eecb-4f7f-b128-c029613053d0"
      },
      "execution_count": null,
      "outputs": []
    },
    {
      "cell_type": "code",
      "source": [
        "df.head()"
      ],
      "metadata": {
        "id": "uVTdcQSdm8wm",
        "colab": {
          "base_uri": "https://localhost:8080/",
          "height": 206
        },
        "outputId": "fe5f65f4-4f42-4b1c-9bc1-86987c4e86fd"
      },
      "execution_count": null,
      "outputs": []
    },
    {
      "cell_type": "code",
      "source": [
        "df['Region'].value_counts()"
      ],
      "metadata": {
        "id": "FUVsXLRVpZbK",
        "colab": {
          "base_uri": "https://localhost:8080/",
          "height": 241
        },
        "outputId": "9e74b066-44ca-4e38-b23e-e3c107021ca8"
      },
      "execution_count": null,
      "outputs": []
    },
    {
      "cell_type": "code",
      "source": [
        "categorical_cols = ['Region', 'City', 'Category', 'Sub-Category', 'Payment Mode']\n",
        "\n",
        "df = pd.get_dummies(df, columns=categorical_cols, drop_first=True)\n"
      ],
      "metadata": {
        "id": "t24b08UwprIR"
      },
      "execution_count": null,
      "outputs": []
    },
    {
      "cell_type": "code",
      "source": [
        "df.head()"
      ],
      "metadata": {
        "id": "FOv9f32hrgIN",
        "colab": {
          "base_uri": "https://localhost:8080/",
          "height": 411
        },
        "outputId": "89768fa8-ee43-41fa-d4ad-4f065aaf9af7"
      },
      "execution_count": null,
      "outputs": []
    },
    {
      "cell_type": "code",
      "source": [
        "df['Order Date'] = pd.to_datetime(df['Order Date'])\n",
        "df['Year'] = df['Order Date'].dt.year\n",
        "df['Month'] = df['Order Date'].dt.month\n",
        "df['Day'] = df['Order Date'].dt.day\n",
        "df['Weekday'] = df['Order Date'].dt.day_name()\n",
        "df['Quarter'] = df['Order Date'].dt.quarter\n",
        "df['Is_Weekend'] = df['Order Date'].dt.weekday >= 5\n",
        "df = pd.get_dummies(df, columns=['Weekday', 'Is_Weekend'], drop_first=True)\n",
        "df['Month_sin'] = np.sin(2 * np.pi * df['Month'] / 12)\n",
        "df['Month_cos'] = np.cos(2 * np.pi * df['Month'] / 12)\n",
        "df['Day_sin'] = np.sin(2 * np.pi * df['Day'] / 31)\n",
        "df['Day_cos'] = np.cos(2 * np.pi * df['Day'] / 31)\n",
        "df = df.drop(['Order Date'], axis=1)\n"
      ],
      "metadata": {
        "id": "bM4sKeAkrhoY"
      },
      "execution_count": null,
      "outputs": []
    },
    {
      "cell_type": "code",
      "source": [
        "df.head()"
      ],
      "metadata": {
        "id": "eXn3RNT3scUl",
        "colab": {
          "base_uri": "https://localhost:8080/",
          "height": 394
        },
        "outputId": "0abe6d6e-871f-4ffa-9f33-2d21625b9901"
      },
      "execution_count": null,
      "outputs": []
    },
    {
      "cell_type": "code",
      "source": [
        "\n",
        "bool_cols = df.select_dtypes(include=['bool']).columns\n",
        "df[bool_cols] = df[bool_cols].astype(int)\n"
      ],
      "metadata": {
        "id": "cfphmFVwse8M"
      },
      "execution_count": null,
      "outputs": []
    },
    {
      "cell_type": "code",
      "source": [
        "df['Product_Avg_Sales'] = df.groupby('Product Name')['Sales'].transform('mean')\n",
        "df['Product_Avg_Profit'] = df.groupby('Product Name')['Profit'].transform('mean')\n",
        "df['Product_Order_Count'] = df.groupby('Product Name')['Quantity'].transform('count')\n"
      ],
      "metadata": {
        "id": "jGeyFAJGtdNE"
      },
      "execution_count": null,
      "outputs": []
    },
    {
      "cell_type": "code",
      "source": [
        "df = df.drop('Product Name', axis=1)\n"
      ],
      "metadata": {
        "id": "j38zW16yteuq"
      },
      "execution_count": null,
      "outputs": []
    },
    {
      "cell_type": "code",
      "source": [
        "df.head()"
      ],
      "metadata": {
        "id": "C9eb5Hv90TfU",
        "colab": {
          "base_uri": "https://localhost:8080/",
          "height": 273
        },
        "outputId": "3f918442-b51a-4d20-9c9f-f8690dc6444d"
      },
      "execution_count": null,
      "outputs": []
    },
    {
      "cell_type": "code",
      "source": [
        "X=df.drop('Sales',axis=1)\n",
        "y=df['Sales']"
      ],
      "metadata": {
        "id": "iGGTM8fp15lT"
      },
      "execution_count": null,
      "outputs": []
    },
    {
      "cell_type": "code",
      "source": [
        "X_train, X_test, y_train, y_test = train_test_split(\n",
        "    X, y, test_size=0.20, random_state=42)\n"
      ],
      "metadata": {
        "id": "902Rwzzs2XcV"
      },
      "execution_count": null,
      "outputs": []
    },
    {
      "cell_type": "code",
      "source": [
        "!pip install optuna"
      ],
      "metadata": {
        "id": "bQq3nffP31_P",
        "colab": {
          "base_uri": "https://localhost:8080/"
        },
        "outputId": "68e7b5e8-756d-4929-bdc3-33e192da9413"
      },
      "execution_count": null,
      "outputs": []
    },
    {
      "cell_type": "code",
      "source": [
        "!pip install catboost"
      ],
      "metadata": {
        "id": "sKlwqjLL4gfY",
        "colab": {
          "base_uri": "https://localhost:8080/"
        },
        "outputId": "bc283238-29db-4cdc-d352-ebb39f34a3f0"
      },
      "execution_count": null,
      "outputs": []
    },
    {
      "cell_type": "code",
      "source": [
        "# -------------------------------\n",
        "\n",
        "import optuna\n",
        "from sklearn.tree import DecisionTreeRegressor\n",
        "from sklearn.ensemble import RandomForestRegressor\n",
        "import xgboost as xgb\n",
        "import lightgbm as lgb\n",
        "from sklearn.metrics import mean_squared_error\n",
        "import numpy as np\n",
        "\n",
        "# Optional CatBoost\n",
        "try:\n",
        "    import catboost as cb\n",
        "    CATBOOST_INSTALLED = True\n",
        "except:\n",
        "    CATBOOST_INSTALLED = False\n",
        "    print(\"CatBoost not installed, skipping it.\")\n",
        "\n",
        "# -------------------------------\n",
        "\n",
        "def objective(trial):\n",
        "    # Available models\n",
        "    models = [\"DecisionTree\", \"RandomForest\", \"XGBoost\", \"LightGBM\"]\n",
        "    if CATBOOST_INSTALLED:\n",
        "        models.append(\"CatBoost\")\n",
        "\n",
        "    model_name = trial.suggest_categorical(\"model\", models)\n",
        "\n",
        "    if model_name == \"DecisionTree\":\n",
        "        max_depth = trial.suggest_int(\"dt_max_depth\", 3, 20)\n",
        "        min_samples_split = trial.suggest_int(\"dt_min_samples_split\", 2, 20)\n",
        "        model = DecisionTreeRegressor(max_depth=max_depth,\n",
        "                                      min_samples_split=min_samples_split,\n",
        "                                      random_state=42)\n",
        "\n",
        "    elif model_name == \"RandomForest\":\n",
        "        n_estimators = trial.suggest_int(\"rf_n_estimators\", 50, 500)\n",
        "        max_depth = trial.suggest_int(\"rf_max_depth\", 3, 20)\n",
        "        min_samples_split = trial.suggest_int(\"rf_min_samples_split\", 2, 20)\n",
        "        model = RandomForestRegressor(n_estimators=n_estimators,\n",
        "                                      max_depth=max_depth,\n",
        "                                      min_samples_split=min_samples_split,\n",
        "                                      n_jobs=-1,\n",
        "                                      random_state=42)\n",
        "\n",
        "    elif model_name == \"XGBoost\":\n",
        "        n_estimators = trial.suggest_int(\"xgb_n_estimators\", 50, 500)\n",
        "        max_depth = trial.suggest_int(\"xgb_max_depth\", 3, 15)\n",
        "        learning_rate = trial.suggest_float(\"xgb_lr\", 0.01, 0.3)\n",
        "        subsample = trial.suggest_float(\"xgb_subsample\", 0.5, 1.0)\n",
        "        model = xgb.XGBRegressor(n_estimators=n_estimators,\n",
        "                                 max_depth=max_depth,\n",
        "                                 learning_rate=learning_rate,\n",
        "                                 subsample=subsample,\n",
        "                                 n_jobs=-1,\n",
        "                                 random_state=42,\n",
        "                                 tree_method='hist')\n",
        "\n",
        "    elif model_name == \"LightGBM\":\n",
        "        n_estimators = trial.suggest_int(\"lgb_n_estimators\", 50, 500)\n",
        "        max_depth = trial.suggest_int(\"lgb_max_depth\", 3, 20)\n",
        "        learning_rate = trial.suggest_float(\"lgb_lr\", 0.01, 0.3)\n",
        "        num_leaves = trial.suggest_int(\"lgb_num_leaves\", 20, 150)\n",
        "        model = lgb.LGBMRegressor(n_estimators=n_estimators,\n",
        "                                  max_depth=max_depth,\n",
        "                                  learning_rate=learning_rate,\n",
        "                                  num_leaves=num_leaves,\n",
        "                                  n_jobs=-1,\n",
        "                                  random_state=42)\n",
        "\n",
        "    else:  # CatBoost\n",
        "        n_estimators = trial.suggest_int(\"cb_n_estimators\", 50, 500)\n",
        "        max_depth = trial.suggest_int(\"cb_max_depth\", 3, 10)\n",
        "        learning_rate = trial.suggest_float(\"cb_lr\", 0.01, 0.3)\n",
        "        model = cb.CatBoostRegressor(iterations=n_estimators,\n",
        "                                     depth=max_depth,\n",
        "                                     learning_rate=learning_rate,\n",
        "                                     silent=True,\n",
        "                                     random_state=42)\n",
        "\n",
        "    # -------------------------------\n",
        "    # Train & evaluate\n",
        "    model.fit(X_train, y_train)\n",
        "    preds = model.predict(X_test)\n",
        "    rmse = np.sqrt(mean_squared_error(y_test, preds))\n",
        "    return rmse\n",
        "\n",
        "# -------------------------------\n",
        "\n",
        "study = optuna.create_study(direction=\"minimize\")\n",
        "study.optimize(objective, n_trials=300, show_progress_bar=True)\n",
        "\n",
        "# -------------------------------\n",
        "\n",
        "print(\"Best RMSE:\", study.best_value)\n",
        "print(\"Best model & hyperparameters:\", study.best_trial.params)\n"
      ],
      "metadata": {
        "id": "IH6oAJD42yhz",
        "colab": {
          "base_uri": "https://localhost:8080/",
          "height": 1000,
          "referenced_widgets": [
            "f90afdc3f4c747c0b9f348d9b0e47e4a",
            "08994fd955ec4e30bc9a651587f0c2f3",
            "b04ac26a7c6e4cea9e3071f3912f552f",
            "f6d4d7a9da3b47afa0f3458cc7db4e48",
            "b73ace885046427dbde286b11f567509",
            "b500712d83584222934f8eef244892c7",
            "4cd1365be1ae41ca99eba04be224f317",
            "5370eb133fb24407af33c66a22bea296",
            "93e8694f394d44c0b6e7929f45e54c5b",
            "b732c2aa428142afb9eb526018546a6b",
            "5f948cca17ba4d98984e1da642640f09"
          ]
        },
        "outputId": "6adbb7b8-e735-4a9f-f1e0-b19b544b9b64"
      },
      "execution_count": null,
      "outputs": []
    },
    {
      "cell_type": "code",
      "source": [
        "from catboost import CatBoostRegressor\n",
        "\n",
        "# -------------------------------\n",
        "# Best hyperparameters\n",
        "best_params = {\n",
        "    'iterations': 496,\n",
        "    'depth': 6,\n",
        "    'learning_rate': 0.1327407810411538,\n",
        "    'random_state': 42,\n",
        "\n",
        "}\n",
        "model = CatBoostRegressor(**best_params)\n",
        "model.fit(X_train, y_train)\n",
        "preds = model.predict(X_test)\n",
        "rmse = np.sqrt(mean_squared_error(y_test, preds))\n",
        "print(\"RMSE:\", rmse)"
      ],
      "metadata": {
        "id": "6tlNVErjE5Mm",
        "colab": {
          "base_uri": "https://localhost:8080/"
        },
        "outputId": "328b7373-9493-4bb2-ca7c-d13a5468bda7"
      },
      "execution_count": null,
      "outputs": []
    },
    {
      "cell_type": "code",
      "source": [
        "# Predict on same dataset (ya alag test set agar available ho)\n",
        "preds = model.predict(X_test)\n",
        "\n",
        "# Evaluate RMSE / R2\n",
        "from sklearn.metrics import mean_squared_error, r2_score\n",
        "import numpy as np\n",
        "\n",
        "rmse = np.sqrt(mean_squared_error(y_test, preds))\n",
        "r2 = r2_score(y_test, preds)\n",
        "\n",
        "print(\"RMSE:\", rmse)\n",
        "print(\"R2 Score:\", r2)\n"
      ],
      "metadata": {
        "id": "7C9C6cuvE5fE",
        "colab": {
          "base_uri": "https://localhost:8080/"
        },
        "outputId": "cf75a887-c50f-4d9c-a147-5ec1ab5277e2"
      },
      "execution_count": null,
      "outputs": []
    },
    {
      "cell_type": "code",
      "source": [
        "from google.colab import output\n",
        "output.clear()  # removes widget metadata traces\n"
      ],
      "metadata": {
        "id": "fxF9tv55E55x"
      },
      "execution_count": null,
      "outputs": []
    },
    {
      "cell_type": "code",
      "source": [],
      "metadata": {
        "id": "tvRNEvoVE6FT"
      },
      "execution_count": null,
      "outputs": []
    }
  ],
  "metadata": {
    "colab": {
      "provenance": []
    },
    "kernelspec": {
      "display_name": "Python 3",
      "name": "python3"
    },
    "language_info": {
      "name": "python"
    }
  },
  "nbformat": 4,
  "nbformat_minor": 0
}