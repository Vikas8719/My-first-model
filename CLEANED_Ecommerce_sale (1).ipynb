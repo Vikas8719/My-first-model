{
  "cells": [
    {
      "cell_type": "code",
      "execution_count": 156,
      "metadata": {
        "id": "frxfEZN4QReg"
      },
      "outputs": [],
      "source": [
        "import numpy as np\n",
        "import pandas as pd\n",
        "import matplotlib.pyplot as plt\n",
        "import seaborn as sns\n",
        "import warnings\n",
        "warnings.filterwarnings('ignore')\n",
        "from sklearn.preprocessing import LabelEncoder,OneHotEncoder\n",
        "from sklearn.model_selection import train_test_split\n",
        "from sklearn.preprocessing import StandardScaler\n",
        "from sklearn.ensemble import RandomForestRegressor\n",
        "from sklearn.metrics import accuracy_score,confusion_matrix,classification_report\n",
        "\n",
        "\n"
      ]
    },
    {
      "cell_type": "code",
      "execution_count": 157,
      "metadata": {
        "id": "xUHQY8ht1VvP"
      },
      "outputs": [],
      "source": [
        "df=pd.read_csv(r\"C:\\Users\\vikas\\OneDrive\\Desktop\\bleder dining table\\Ecommerce_Sales_Data_2024_2025.csv\")\n"
      ]
    },
    {
      "cell_type": "code",
      "execution_count": 158,
      "metadata": {
        "colab": {
          "base_uri": "https://localhost:8080/",
          "height": 206
        },
        "id": "K-JCTojHcaao",
        "outputId": "d7a33758-ae7d-4bbc-c919-15c1f81baf5c"
      },
      "outputs": [
        {
          "data": {
            "text/html": [
              "<div>\n",
              "<style scoped>\n",
              "    .dataframe tbody tr th:only-of-type {\n",
              "        vertical-align: middle;\n",
              "    }\n",
              "\n",
              "    .dataframe tbody tr th {\n",
              "        vertical-align: top;\n",
              "    }\n",
              "\n",
              "    .dataframe thead th {\n",
              "        text-align: right;\n",
              "    }\n",
              "</style>\n",
              "<table border=\"1\" class=\"dataframe\">\n",
              "  <thead>\n",
              "    <tr style=\"text-align: right;\">\n",
              "      <th></th>\n",
              "      <th>Order ID</th>\n",
              "      <th>Order Date</th>\n",
              "      <th>Customer Name</th>\n",
              "      <th>Region</th>\n",
              "      <th>City</th>\n",
              "      <th>Category</th>\n",
              "      <th>Sub-Category</th>\n",
              "      <th>Product Name</th>\n",
              "      <th>Quantity</th>\n",
              "      <th>Unit Price</th>\n",
              "      <th>Discount</th>\n",
              "      <th>Sales</th>\n",
              "      <th>Profit</th>\n",
              "      <th>Payment Mode</th>\n",
              "    </tr>\n",
              "  </thead>\n",
              "  <tbody>\n",
              "    <tr>\n",
              "      <th>0</th>\n",
              "      <td>10001</td>\n",
              "      <td>2024-10-19</td>\n",
              "      <td>Kashvi Varty</td>\n",
              "      <td>South</td>\n",
              "      <td>Bangalore</td>\n",
              "      <td>Books</td>\n",
              "      <td>Non-Fiction</td>\n",
              "      <td>Non-Fiction Ipsum</td>\n",
              "      <td>2</td>\n",
              "      <td>36294</td>\n",
              "      <td>5</td>\n",
              "      <td>68958.6</td>\n",
              "      <td>10525.09</td>\n",
              "      <td>Debit Card</td>\n",
              "    </tr>\n",
              "    <tr>\n",
              "      <th>1</th>\n",
              "      <td>10002</td>\n",
              "      <td>2025-08-30</td>\n",
              "      <td>Advik Desai</td>\n",
              "      <td>North</td>\n",
              "      <td>Delhi</td>\n",
              "      <td>Groceries</td>\n",
              "      <td>Rice</td>\n",
              "      <td>Rice Nemo</td>\n",
              "      <td>1</td>\n",
              "      <td>42165</td>\n",
              "      <td>20</td>\n",
              "      <td>33732.0</td>\n",
              "      <td>6299.66</td>\n",
              "      <td>Debit Card</td>\n",
              "    </tr>\n",
              "    <tr>\n",
              "      <th>2</th>\n",
              "      <td>10003</td>\n",
              "      <td>2023-11-04</td>\n",
              "      <td>Rhea Kalla</td>\n",
              "      <td>East</td>\n",
              "      <td>Patna</td>\n",
              "      <td>Kitchen</td>\n",
              "      <td>Juicer</td>\n",
              "      <td>Juicer Odio</td>\n",
              "      <td>4</td>\n",
              "      <td>64876</td>\n",
              "      <td>20</td>\n",
              "      <td>207603.2</td>\n",
              "      <td>19850.27</td>\n",
              "      <td>Credit Card</td>\n",
              "    </tr>\n",
              "    <tr>\n",
              "      <th>3</th>\n",
              "      <td>10004</td>\n",
              "      <td>2025-05-23</td>\n",
              "      <td>Anika Sen</td>\n",
              "      <td>East</td>\n",
              "      <td>Kolkata</td>\n",
              "      <td>Groceries</td>\n",
              "      <td>Oil</td>\n",
              "      <td>Oil Doloribus</td>\n",
              "      <td>5</td>\n",
              "      <td>37320</td>\n",
              "      <td>15</td>\n",
              "      <td>158610.0</td>\n",
              "      <td>36311.02</td>\n",
              "      <td>UPI</td>\n",
              "    </tr>\n",
              "    <tr>\n",
              "      <th>4</th>\n",
              "      <td>10005</td>\n",
              "      <td>2025-01-19</td>\n",
              "      <td>Akarsh Kaul</td>\n",
              "      <td>West</td>\n",
              "      <td>Pune</td>\n",
              "      <td>Clothing</td>\n",
              "      <td>Kids Wear</td>\n",
              "      <td>Kids Wear Quo</td>\n",
              "      <td>1</td>\n",
              "      <td>50037</td>\n",
              "      <td>10</td>\n",
              "      <td>45033.3</td>\n",
              "      <td>9050.04</td>\n",
              "      <td>Debit Card</td>\n",
              "    </tr>\n",
              "  </tbody>\n",
              "</table>\n",
              "</div>"
            ],
            "text/plain": [
              "   Order ID  Order Date Customer Name Region       City   Category  \\\n",
              "0     10001  2024-10-19  Kashvi Varty  South  Bangalore      Books   \n",
              "1     10002  2025-08-30   Advik Desai  North      Delhi  Groceries   \n",
              "2     10003  2023-11-04    Rhea Kalla   East      Patna    Kitchen   \n",
              "3     10004  2025-05-23     Anika Sen   East    Kolkata  Groceries   \n",
              "4     10005  2025-01-19   Akarsh Kaul   West       Pune   Clothing   \n",
              "\n",
              "  Sub-Category       Product Name  Quantity  Unit Price  Discount     Sales  \\\n",
              "0  Non-Fiction  Non-Fiction Ipsum         2       36294         5   68958.6   \n",
              "1         Rice          Rice Nemo         1       42165        20   33732.0   \n",
              "2       Juicer        Juicer Odio         4       64876        20  207603.2   \n",
              "3          Oil      Oil Doloribus         5       37320        15  158610.0   \n",
              "4    Kids Wear      Kids Wear Quo         1       50037        10   45033.3   \n",
              "\n",
              "     Profit Payment Mode  \n",
              "0  10525.09   Debit Card  \n",
              "1   6299.66   Debit Card  \n",
              "2  19850.27  Credit Card  \n",
              "3  36311.02          UPI  \n",
              "4   9050.04   Debit Card  "
            ]
          },
          "execution_count": 158,
          "metadata": {},
          "output_type": "execute_result"
        }
      ],
      "source": [
        "df.head()\n"
      ]
    },
    {
      "cell_type": "code",
      "execution_count": 159,
      "metadata": {
        "colab": {
          "base_uri": "https://localhost:8080/"
        },
        "id": "ekCFVnxxcadS",
        "outputId": "81eb1452-cf20-43fd-b6cd-4be4121d3c52"
      },
      "outputs": [
        {
          "data": {
            "text/plain": [
              "(5000, 14)"
            ]
          },
          "execution_count": 159,
          "metadata": {},
          "output_type": "execute_result"
        }
      ],
      "source": [
        "df.shape"
      ]
    },
    {
      "cell_type": "code",
      "execution_count": 160,
      "metadata": {
        "colab": {
          "base_uri": "https://localhost:8080/"
        },
        "id": "nXCpyWrZcafn",
        "outputId": "a0a82444-e0b0-4f3f-f451-1ba14235b726"
      },
      "outputs": [
        {
          "data": {
            "text/plain": [
              "Index(['Order ID', 'Order Date', 'Customer Name', 'Region', 'City', 'Category',\n",
              "       'Sub-Category', 'Product Name', 'Quantity', 'Unit Price', 'Discount',\n",
              "       'Sales', 'Profit', 'Payment Mode'],\n",
              "      dtype='object')"
            ]
          },
          "execution_count": 160,
          "metadata": {},
          "output_type": "execute_result"
        }
      ],
      "source": [
        "df.columns"
      ]
    },
    {
      "cell_type": "code",
      "execution_count": 161,
      "metadata": {
        "colab": {
          "base_uri": "https://localhost:8080/"
        },
        "id": "JiZKhX83caiF",
        "outputId": "8a001ba9-cc24-450d-eb75-b49c539a766a"
      },
      "outputs": [
        {
          "name": "stdout",
          "output_type": "stream",
          "text": [
            "<class 'pandas.core.frame.DataFrame'>\n",
            "RangeIndex: 5000 entries, 0 to 4999\n",
            "Data columns (total 14 columns):\n",
            " #   Column         Non-Null Count  Dtype  \n",
            "---  ------         --------------  -----  \n",
            " 0   Order ID       5000 non-null   int64  \n",
            " 1   Order Date     5000 non-null   object \n",
            " 2   Customer Name  5000 non-null   object \n",
            " 3   Region         5000 non-null   object \n",
            " 4   City           5000 non-null   object \n",
            " 5   Category       5000 non-null   object \n",
            " 6   Sub-Category   5000 non-null   object \n",
            " 7   Product Name   5000 non-null   object \n",
            " 8   Quantity       5000 non-null   int64  \n",
            " 9   Unit Price     5000 non-null   int64  \n",
            " 10  Discount       5000 non-null   int64  \n",
            " 11  Sales          5000 non-null   float64\n",
            " 12  Profit         5000 non-null   float64\n",
            " 13  Payment Mode   5000 non-null   object \n",
            "dtypes: float64(2), int64(4), object(8)\n",
            "memory usage: 547.0+ KB\n"
          ]
        }
      ],
      "source": [
        "df.info()"
      ]
    },
    {
      "cell_type": "code",
      "execution_count": 162,
      "metadata": {
        "colab": {
          "base_uri": "https://localhost:8080/",
          "height": 300
        },
        "id": "HgGsdqDccakj",
        "outputId": "7bdb1f60-b21d-41db-c773-2764c5f6f136"
      },
      "outputs": [
        {
          "data": {
            "text/html": [
              "<div>\n",
              "<style scoped>\n",
              "    .dataframe tbody tr th:only-of-type {\n",
              "        vertical-align: middle;\n",
              "    }\n",
              "\n",
              "    .dataframe tbody tr th {\n",
              "        vertical-align: top;\n",
              "    }\n",
              "\n",
              "    .dataframe thead th {\n",
              "        text-align: right;\n",
              "    }\n",
              "</style>\n",
              "<table border=\"1\" class=\"dataframe\">\n",
              "  <thead>\n",
              "    <tr style=\"text-align: right;\">\n",
              "      <th></th>\n",
              "      <th>Order ID</th>\n",
              "      <th>Quantity</th>\n",
              "      <th>Unit Price</th>\n",
              "      <th>Discount</th>\n",
              "      <th>Sales</th>\n",
              "      <th>Profit</th>\n",
              "    </tr>\n",
              "  </thead>\n",
              "  <tbody>\n",
              "    <tr>\n",
              "      <th>count</th>\n",
              "      <td>5000.000000</td>\n",
              "      <td>5000.000000</td>\n",
              "      <td>5000.000000</td>\n",
              "      <td>5000.000000</td>\n",
              "      <td>5000.000000</td>\n",
              "      <td>5000.000000</td>\n",
              "    </tr>\n",
              "    <tr>\n",
              "      <th>mean</th>\n",
              "      <td>12500.500000</td>\n",
              "      <td>2.992600</td>\n",
              "      <td>39760.904600</td>\n",
              "      <td>10.051000</td>\n",
              "      <td>106733.204870</td>\n",
              "      <td>15941.746982</td>\n",
              "    </tr>\n",
              "    <tr>\n",
              "      <th>std</th>\n",
              "      <td>1443.520003</td>\n",
              "      <td>1.413133</td>\n",
              "      <td>22831.783946</td>\n",
              "      <td>7.084662</td>\n",
              "      <td>85108.208202</td>\n",
              "      <td>14897.684916</td>\n",
              "    </tr>\n",
              "    <tr>\n",
              "      <th>min</th>\n",
              "      <td>10001.000000</td>\n",
              "      <td>1.000000</td>\n",
              "      <td>222.000000</td>\n",
              "      <td>0.000000</td>\n",
              "      <td>264.100000</td>\n",
              "      <td>19.120000</td>\n",
              "    </tr>\n",
              "    <tr>\n",
              "      <th>25%</th>\n",
              "      <td>11250.750000</td>\n",
              "      <td>2.000000</td>\n",
              "      <td>20312.250000</td>\n",
              "      <td>5.000000</td>\n",
              "      <td>39766.537500</td>\n",
              "      <td>4892.295000</td>\n",
              "    </tr>\n",
              "    <tr>\n",
              "      <th>50%</th>\n",
              "      <td>12500.500000</td>\n",
              "      <td>3.000000</td>\n",
              "      <td>39459.500000</td>\n",
              "      <td>10.000000</td>\n",
              "      <td>83080.325000</td>\n",
              "      <td>11108.525000</td>\n",
              "    </tr>\n",
              "    <tr>\n",
              "      <th>75%</th>\n",
              "      <td>13750.250000</td>\n",
              "      <td>4.000000</td>\n",
              "      <td>59721.750000</td>\n",
              "      <td>15.000000</td>\n",
              "      <td>156968.587500</td>\n",
              "      <td>22467.987500</td>\n",
              "    </tr>\n",
              "    <tr>\n",
              "      <th>max</th>\n",
              "      <td>15000.000000</td>\n",
              "      <td>5.000000</td>\n",
              "      <td>79998.000000</td>\n",
              "      <td>20.000000</td>\n",
              "      <td>398485.000000</td>\n",
              "      <td>89688.440000</td>\n",
              "    </tr>\n",
              "  </tbody>\n",
              "</table>\n",
              "</div>"
            ],
            "text/plain": [
              "           Order ID     Quantity    Unit Price     Discount          Sales  \\\n",
              "count   5000.000000  5000.000000   5000.000000  5000.000000    5000.000000   \n",
              "mean   12500.500000     2.992600  39760.904600    10.051000  106733.204870   \n",
              "std     1443.520003     1.413133  22831.783946     7.084662   85108.208202   \n",
              "min    10001.000000     1.000000    222.000000     0.000000     264.100000   \n",
              "25%    11250.750000     2.000000  20312.250000     5.000000   39766.537500   \n",
              "50%    12500.500000     3.000000  39459.500000    10.000000   83080.325000   \n",
              "75%    13750.250000     4.000000  59721.750000    15.000000  156968.587500   \n",
              "max    15000.000000     5.000000  79998.000000    20.000000  398485.000000   \n",
              "\n",
              "             Profit  \n",
              "count   5000.000000  \n",
              "mean   15941.746982  \n",
              "std    14897.684916  \n",
              "min       19.120000  \n",
              "25%     4892.295000  \n",
              "50%    11108.525000  \n",
              "75%    22467.987500  \n",
              "max    89688.440000  "
            ]
          },
          "execution_count": 162,
          "metadata": {},
          "output_type": "execute_result"
        }
      ],
      "source": [
        "df.describe()"
      ]
    },
    {
      "cell_type": "code",
      "execution_count": 163,
      "metadata": {
        "colab": {
          "base_uri": "https://localhost:8080/",
          "height": 523
        },
        "id": "DJfRrotWcanP",
        "outputId": "09a27b0e-404c-45ac-a018-b842b08405b7"
      },
      "outputs": [
        {
          "data": {
            "text/plain": [
              "Order ID         0\n",
              "Order Date       0\n",
              "Customer Name    0\n",
              "Region           0\n",
              "City             0\n",
              "Category         0\n",
              "Sub-Category     0\n",
              "Product Name     0\n",
              "Quantity         0\n",
              "Unit Price       0\n",
              "Discount         0\n",
              "Sales            0\n",
              "Profit           0\n",
              "Payment Mode     0\n",
              "dtype: int64"
            ]
          },
          "execution_count": 163,
          "metadata": {},
          "output_type": "execute_result"
        }
      ],
      "source": [
        "df.isnull().sum()"
      ]
    },
    {
      "cell_type": "code",
      "execution_count": 164,
      "metadata": {
        "colab": {
          "base_uri": "https://localhost:8080/"
        },
        "id": "DnaAmA-3cap1",
        "outputId": "0aadc480-6e21-451f-a5e3-7c844876f906"
      },
      "outputs": [
        {
          "data": {
            "text/plain": [
              "np.int64(0)"
            ]
          },
          "execution_count": 164,
          "metadata": {},
          "output_type": "execute_result"
        }
      ],
      "source": [
        "df.duplicated().sum()"
      ]
    },
    {
      "cell_type": "code",
      "execution_count": 165,
      "metadata": {
        "colab": {
          "base_uri": "https://localhost:8080/",
          "height": 523
        },
        "id": "7_2-XA9icasZ",
        "outputId": "94e33198-5c19-4853-963d-278f41449d32"
      },
      "outputs": [
        {
          "data": {
            "text/plain": [
              "Order ID         5000\n",
              "Order Date        730\n",
              "Customer Name    4844\n",
              "Region              4\n",
              "City               20\n",
              "Category           10\n",
              "Sub-Category       50\n",
              "Product Name     3835\n",
              "Quantity            5\n",
              "Unit Price       4841\n",
              "Discount            5\n",
              "Sales            4978\n",
              "Profit           4996\n",
              "Payment Mode        5\n",
              "dtype: int64"
            ]
          },
          "execution_count": 165,
          "metadata": {},
          "output_type": "execute_result"
        }
      ],
      "source": [
        "df.nunique()"
      ]
    },
    {
      "cell_type": "code",
      "execution_count": 166,
      "metadata": {
        "id": "X8X7xczNcavB"
      },
      "outputs": [],
      "source": [
        "df.drop(['Customer Name','Order ID'],inplace=True,axis=1)"
      ]
    },
    {
      "cell_type": "code",
      "execution_count": 167,
      "metadata": {
        "colab": {
          "base_uri": "https://localhost:8080/",
          "height": 206
        },
        "id": "fHYiQRspcaxn",
        "outputId": "409b79a6-6174-4125-cc64-7d4ca007bd52"
      },
      "outputs": [
        {
          "data": {
            "text/html": [
              "<div>\n",
              "<style scoped>\n",
              "    .dataframe tbody tr th:only-of-type {\n",
              "        vertical-align: middle;\n",
              "    }\n",
              "\n",
              "    .dataframe tbody tr th {\n",
              "        vertical-align: top;\n",
              "    }\n",
              "\n",
              "    .dataframe thead th {\n",
              "        text-align: right;\n",
              "    }\n",
              "</style>\n",
              "<table border=\"1\" class=\"dataframe\">\n",
              "  <thead>\n",
              "    <tr style=\"text-align: right;\">\n",
              "      <th></th>\n",
              "      <th>Order Date</th>\n",
              "      <th>Region</th>\n",
              "      <th>City</th>\n",
              "      <th>Category</th>\n",
              "      <th>Sub-Category</th>\n",
              "      <th>Product Name</th>\n",
              "      <th>Quantity</th>\n",
              "      <th>Unit Price</th>\n",
              "      <th>Discount</th>\n",
              "      <th>Sales</th>\n",
              "      <th>Profit</th>\n",
              "      <th>Payment Mode</th>\n",
              "    </tr>\n",
              "  </thead>\n",
              "  <tbody>\n",
              "    <tr>\n",
              "      <th>0</th>\n",
              "      <td>2024-10-19</td>\n",
              "      <td>South</td>\n",
              "      <td>Bangalore</td>\n",
              "      <td>Books</td>\n",
              "      <td>Non-Fiction</td>\n",
              "      <td>Non-Fiction Ipsum</td>\n",
              "      <td>2</td>\n",
              "      <td>36294</td>\n",
              "      <td>5</td>\n",
              "      <td>68958.6</td>\n",
              "      <td>10525.09</td>\n",
              "      <td>Debit Card</td>\n",
              "    </tr>\n",
              "    <tr>\n",
              "      <th>1</th>\n",
              "      <td>2025-08-30</td>\n",
              "      <td>North</td>\n",
              "      <td>Delhi</td>\n",
              "      <td>Groceries</td>\n",
              "      <td>Rice</td>\n",
              "      <td>Rice Nemo</td>\n",
              "      <td>1</td>\n",
              "      <td>42165</td>\n",
              "      <td>20</td>\n",
              "      <td>33732.0</td>\n",
              "      <td>6299.66</td>\n",
              "      <td>Debit Card</td>\n",
              "    </tr>\n",
              "    <tr>\n",
              "      <th>2</th>\n",
              "      <td>2023-11-04</td>\n",
              "      <td>East</td>\n",
              "      <td>Patna</td>\n",
              "      <td>Kitchen</td>\n",
              "      <td>Juicer</td>\n",
              "      <td>Juicer Odio</td>\n",
              "      <td>4</td>\n",
              "      <td>64876</td>\n",
              "      <td>20</td>\n",
              "      <td>207603.2</td>\n",
              "      <td>19850.27</td>\n",
              "      <td>Credit Card</td>\n",
              "    </tr>\n",
              "    <tr>\n",
              "      <th>3</th>\n",
              "      <td>2025-05-23</td>\n",
              "      <td>East</td>\n",
              "      <td>Kolkata</td>\n",
              "      <td>Groceries</td>\n",
              "      <td>Oil</td>\n",
              "      <td>Oil Doloribus</td>\n",
              "      <td>5</td>\n",
              "      <td>37320</td>\n",
              "      <td>15</td>\n",
              "      <td>158610.0</td>\n",
              "      <td>36311.02</td>\n",
              "      <td>UPI</td>\n",
              "    </tr>\n",
              "    <tr>\n",
              "      <th>4</th>\n",
              "      <td>2025-01-19</td>\n",
              "      <td>West</td>\n",
              "      <td>Pune</td>\n",
              "      <td>Clothing</td>\n",
              "      <td>Kids Wear</td>\n",
              "      <td>Kids Wear Quo</td>\n",
              "      <td>1</td>\n",
              "      <td>50037</td>\n",
              "      <td>10</td>\n",
              "      <td>45033.3</td>\n",
              "      <td>9050.04</td>\n",
              "      <td>Debit Card</td>\n",
              "    </tr>\n",
              "  </tbody>\n",
              "</table>\n",
              "</div>"
            ],
            "text/plain": [
              "   Order Date Region       City   Category Sub-Category       Product Name  \\\n",
              "0  2024-10-19  South  Bangalore      Books  Non-Fiction  Non-Fiction Ipsum   \n",
              "1  2025-08-30  North      Delhi  Groceries         Rice          Rice Nemo   \n",
              "2  2023-11-04   East      Patna    Kitchen       Juicer        Juicer Odio   \n",
              "3  2025-05-23   East    Kolkata  Groceries          Oil      Oil Doloribus   \n",
              "4  2025-01-19   West       Pune   Clothing    Kids Wear      Kids Wear Quo   \n",
              "\n",
              "   Quantity  Unit Price  Discount     Sales    Profit Payment Mode  \n",
              "0         2       36294         5   68958.6  10525.09   Debit Card  \n",
              "1         1       42165        20   33732.0   6299.66   Debit Card  \n",
              "2         4       64876        20  207603.2  19850.27  Credit Card  \n",
              "3         5       37320        15  158610.0  36311.02          UPI  \n",
              "4         1       50037        10   45033.3   9050.04   Debit Card  "
            ]
          },
          "execution_count": 167,
          "metadata": {},
          "output_type": "execute_result"
        }
      ],
      "source": [
        "df.head()"
      ]
    },
    {
      "cell_type": "code",
      "execution_count": 168,
      "metadata": {
        "id": "iaykXJDwca0F"
      },
      "outputs": [],
      "source": [
        "numeric_columns=['Unit Price','Discount','Sales','Profit']"
      ]
    },
    {
      "cell_type": "code",
      "execution_count": 169,
      "metadata": {
        "colab": {
          "base_uri": "https://localhost:8080/",
          "height": 1000
        },
        "id": "LdXZAdcZca2s",
        "outputId": "49361256-2a90-4bfb-8bf1-4c69c6d00893"
      },
      "outputs": [
        {
          "data": {
            "image/png": "[encoded data removed]",
            "text/plain": [
              "<Figure size 800x600 with 1 Axes>"
            ]
          },
          "metadata": {},
          "output_type": "display_data"
        },
        {
          "data": {
            "image/png": "[encoded data removed]",
            "text/plain": [
              "<Figure size 800x600 with 1 Axes>"
            ]
          },
          "metadata": {},
          "output_type": "display_data"
        },
        {
          "data": {
            "image/png": "[encoded data removed]",
            "text/plain": [
              "<Figure size 800x600 with 1 Axes>"
            ]
          },
          "metadata": {},
          "output_type": "display_data"
        },
        {
          "data": {
            "image/png": "[encoded data removed]",
            "text/plain": [
              "<Figure size 800x600 with 1 Axes>"
            ]
          },
          "metadata": {},
          "output_type": "display_data"
        }
      ],
      "source": [
        "for col in numeric_columns:\n",
        "  plt.figure(figsize=(8,6))\n",
        "  sns.histplot(df[col],kde=True,bins=30)\n"
      ]
    },
    {
      "cell_type": "code",
      "execution_count": 170,
      "metadata": {
        "colab": {
          "base_uri": "https://localhost:8080/",
          "height": 487
        },
        "id": "_rWa5tuqca5X",
        "outputId": "4bba63ae-1e6d-40b2-b759-1ca9421673ab"
      },
      "outputs": [
        {
          "data": {
            "image/png": "[encoded data removed]",
            "text/plain": [
              "<Figure size 640x480 with 1 Axes>"
            ]
          },
          "metadata": {},
          "output_type": "display_data"
        }
      ],
      "source": [
        "sns.countplot(x=df['Category'])\n",
        "plt.xticks(rotation=90)\n",
        "plt.tight_layout()"
      ]
    },
    {
      "cell_type": "code",
      "execution_count": 171,
      "metadata": {
        "colab": {
          "base_uri": "https://localhost:8080/",
          "height": 1000
        },
        "id": "Z9HexRrAmJZh",
        "outputId": "b88c4299-bb7a-46de-8732-ff4527ecf6f2"
      },
      "outputs": [
        {
          "data": {
            "text/plain": [
              "([0,\n",
              "  1,\n",
              "  2,\n",
              "  3,\n",
              "  4,\n",
              "  5,\n",
              "  6,\n",
              "  7,\n",
              "  8,\n",
              "  9,\n",
              "  10,\n",
              "  11,\n",
              "  12,\n",
              "  13,\n",
              "  14,\n",
              "  15,\n",
              "  16,\n",
              "  17,\n",
              "  18,\n",
              "  19,\n",
              "  20,\n",
              "  21,\n",
              "  22,\n",
              "  23,\n",
              "  24,\n",
              "  25,\n",
              "  26,\n",
              "  27,\n",
              "  28,\n",
              "  29,\n",
              "  30,\n",
              "  31,\n",
              "  32,\n",
              "  33,\n",
              "  34,\n",
              "  35,\n",
              "  36,\n",
              "  37,\n",
              "  38,\n",
              "  39,\n",
              "  40,\n",
              "  41,\n",
              "  42,\n",
              "  43,\n",
              "  44,\n",
              "  45,\n",
              "  46,\n",
              "  47,\n",
              "  48,\n",
              "  49],\n",
              " [Text(0, 0, 'Non-Fiction'),\n",
              "  Text(1, 0, 'Rice'),\n",
              "  Text(2, 0, 'Juicer'),\n",
              "  Text(3, 0, 'Oil'),\n",
              "  Text(4, 0, 'Kids Wear'),\n",
              "  Text(5, 0, 'Chair'),\n",
              "  Text(6, 0, 'Accessories'),\n",
              "  Text(7, 0, 'Biography'),\n",
              "  Text(8, 0, 'Spices'),\n",
              "  Text(9, 0, 'Cookware Set'),\n",
              "  Text(10, 0, 'Perfume'),\n",
              "  Text(11, 0, 'Vase'),\n",
              "  Text(12, 0, \"Women's Wear\"),\n",
              "  Text(13, 0, 'Laptop'),\n",
              "  Text(14, 0, 'Smartwatch'),\n",
              "  Text(15, 0, 'Dumbbells'),\n",
              "  Text(16, 0, 'Textbook'),\n",
              "  Text(17, 0, 'Refrigerator'),\n",
              "  Text(18, 0, 'Wheat'),\n",
              "  Text(19, 0, 'Comics'),\n",
              "  Text(20, 0, 'Face Cream'),\n",
              "  Text(21, 0, 'Headphones'),\n",
              "  Text(22, 0, 'Foundation'),\n",
              "  Text(23, 0, 'Table'),\n",
              "  Text(24, 0, 'RC Car'),\n",
              "  Text(25, 0, 'Sugar'),\n",
              "  Text(26, 0, 'Cricket Bat'),\n",
              "  Text(27, 0, 'Sofa'),\n",
              "  Text(28, 0, 'Action Figure'),\n",
              "  Text(29, 0, 'Lipstick'),\n",
              "  Text(30, 0, 'Yoga Mat'),\n",
              "  Text(31, 0, 'Puzzle'),\n",
              "  Text(32, 0, 'Board Game'),\n",
              "  Text(33, 0, 'Doll'),\n",
              "  Text(34, 0, 'Camera'),\n",
              "  Text(35, 0, 'Tennis Racket'),\n",
              "  Text(36, 0, 'Shoes'),\n",
              "  Text(37, 0, 'Bed'),\n",
              "  Text(38, 0, 'Wall Art'),\n",
              "  Text(39, 0, 'Cabinet'),\n",
              "  Text(40, 0, 'Football'),\n",
              "  Text(41, 0, 'Mixer Grinder'),\n",
              "  Text(42, 0, 'Cushion'),\n",
              "  Text(43, 0, 'Fiction'),\n",
              "  Text(44, 0, 'Mobile'),\n",
              "  Text(45, 0, 'Lamp'),\n",
              "  Text(46, 0, 'Microwave'),\n",
              "  Text(47, 0, 'Clock'),\n",
              "  Text(48, 0, \"Men's Wear\"),\n",
              "  Text(49, 0, 'Shampoo')])"
            ]
          },
          "execution_count": 171,
          "metadata": {},
          "output_type": "execute_result"
        },
        {
          "data": {
            "image/png": "[encoded data removed]",
            "text/plain": [
              "<Figure size 640x480 with 1 Axes>"
            ]
          },
          "metadata": {},
          "output_type": "display_data"
        }
      ],
      "source": [
        "sns.countplot(x=df['Sub-Category'])\n",
        "plt.tight_layout()\n",
        "plt.xticks(rotation=90)"
      ]
    },
    {
      "cell_type": "code",
      "execution_count": 172,
      "metadata": {
        "colab": {
          "base_uri": "https://localhost:8080/",
          "height": 466
        },
        "id": "hyxpUaYmmPzX",
        "outputId": "1b691d41-2aa4-498c-d871-53ceb3c70899"
      },
      "outputs": [
        {
          "data": {
            "text/plain": [
              "<Axes: xlabel='Region', ylabel='count'>"
            ]
          },
          "execution_count": 172,
          "metadata": {},
          "output_type": "execute_result"
        },
        {
          "data": {
            "image/png": "[encoded data removed]",
            "text/plain": [
              "<Figure size 640x480 with 1 Axes>"
            ]
          },
          "metadata": {},
          "output_type": "display_data"
        }
      ],
      "source": [
        "sns.countplot(x=df['Region'])\n"
      ]
    },
    {
      "cell_type": "code",
      "execution_count": 173,
      "metadata": {
        "colab": {
          "base_uri": "https://localhost:8080/",
          "height": 1000
        },
        "id": "GEZ93urGo50V",
        "outputId": "3562eec6-2283-4090-911a-0cfd2e09079d"
      },
      "outputs": [
        {
          "data": {
            "image/png": "[encoded data removed]",
            "text/plain": [
              "<Figure size 800x600 with 1 Axes>"
            ]
          },
          "metadata": {},
          "output_type": "display_data"
        },
        {
          "data": {
            "image/png": "[encoded data removed]",
            "text/plain": [
              "<Figure size 800x600 with 1 Axes>"
            ]
          },
          "metadata": {},
          "output_type": "display_data"
        },
        {
          "data": {
            "image/png": "[encoded data removed]",
            "text/plain": [
              "<Figure size 800x600 with 1 Axes>"
            ]
          },
          "metadata": {},
          "output_type": "display_data"
        },
        {
          "data": {
            "image/png": "[encoded data removed]",
            "text/plain": [
              "<Figure size 800x600 with 1 Axes>"
            ]
          },
          "metadata": {},
          "output_type": "display_data"
        }
      ],
      "source": [
        "for col in numeric_columns:\n",
        "  plt.figure(figsize=(8,6))\n",
        "  sns.boxplot(x=df[col])"
      ]
    },
    {
      "cell_type": "code",
      "execution_count": 174,
      "metadata": {
        "colab": {
          "base_uri": "https://localhost:8080/",
          "height": 699
        },
        "id": "cfah4Jqpm3M8",
        "outputId": "38de1b2b-eecb-4f7f-b128-c029613053d0"
      },
      "outputs": [
        {
          "data": {
            "text/plain": [
              "<Axes: >"
            ]
          },
          "execution_count": 174,
          "metadata": {},
          "output_type": "execute_result"
        },
        {
          "data": {
            "image/png": "[encoded data removed]",
            "text/plain": [
              "<Figure size 1000x800 with 2 Axes>"
            ]
          },
          "metadata": {},
          "output_type": "display_data"
        }
      ],
      "source": [
        "plt.figure(figsize=(10,8))\n",
        "sns.heatmap(df.corr(numeric_only=True),annot=True)\n",
        "\n"
      ]
    },
    {
      "cell_type": "code",
      "execution_count": 175,
      "metadata": {
        "colab": {
          "base_uri": "https://localhost:8080/",
          "height": 206
        },
        "id": "uVTdcQSdm8wm",
        "outputId": "fe5f65f4-4f42-4b1c-9bc1-86987c4e86fd"
      },
      "outputs": [
        {
          "data": {
            "text/html": [
              "<div>\n",
              "<style scoped>\n",
              "    .dataframe tbody tr th:only-of-type {\n",
              "        vertical-align: middle;\n",
              "    }\n",
              "\n",
              "    .dataframe tbody tr th {\n",
              "        vertical-align: top;\n",
              "    }\n",
              "\n",
              "    .dataframe thead th {\n",
              "        text-align: right;\n",
              "    }\n",
              "</style>\n",
              "<table border=\"1\" class=\"dataframe\">\n",
              "  <thead>\n",
              "    <tr style=\"text-align: right;\">\n",
              "      <th></th>\n",
              "      <th>Order Date</th>\n",
              "      <th>Region</th>\n",
              "      <th>City</th>\n",
              "      <th>Category</th>\n",
              "      <th>Sub-Category</th>\n",
              "      <th>Product Name</th>\n",
              "      <th>Quantity</th>\n",
              "      <th>Unit Price</th>\n",
              "      <th>Discount</th>\n",
              "      <th>Sales</th>\n",
              "      <th>Profit</th>\n",
              "      <th>Payment Mode</th>\n",
              "    </tr>\n",
              "  </thead>\n",
              "  <tbody>\n",
              "    <tr>\n",
              "      <th>0</th>\n",
              "      <td>2024-10-19</td>\n",
              "      <td>South</td>\n",
              "      <td>Bangalore</td>\n",
              "      <td>Books</td>\n",
              "      <td>Non-Fiction</td>\n",
              "      <td>Non-Fiction Ipsum</td>\n",
              "      <td>2</td>\n",
              "      <td>36294</td>\n",
              "      <td>5</td>\n",
              "      <td>68958.6</td>\n",
              "      <td>10525.09</td>\n",
              "      <td>Debit Card</td>\n",
              "    </tr>\n",
              "    <tr>\n",
              "      <th>1</th>\n",
              "      <td>2025-08-30</td>\n",
              "      <td>North</td>\n",
              "      <td>Delhi</td>\n",
              "      <td>Groceries</td>\n",
              "      <td>Rice</td>\n",
              "      <td>Rice Nemo</td>\n",
              "      <td>1</td>\n",
              "      <td>42165</td>\n",
              "      <td>20</td>\n",
              "      <td>33732.0</td>\n",
              "      <td>6299.66</td>\n",
              "      <td>Debit Card</td>\n",
              "    </tr>\n",
              "    <tr>\n",
              "      <th>2</th>\n",
              "      <td>2023-11-04</td>\n",
              "      <td>East</td>\n",
              "      <td>Patna</td>\n",
              "      <td>Kitchen</td>\n",
              "      <td>Juicer</td>\n",
              "      <td>Juicer Odio</td>\n",
              "      <td>4</td>\n",
              "      <td>64876</td>\n",
              "      <td>20</td>\n",
              "      <td>207603.2</td>\n",
              "      <td>19850.27</td>\n",
              "      <td>Credit Card</td>\n",
              "    </tr>\n",
              "    <tr>\n",
              "      <th>3</th>\n",
              "      <td>2025-05-23</td>\n",
              "      <td>East</td>\n",
              "      <td>Kolkata</td>\n",
              "      <td>Groceries</td>\n",
              "      <td>Oil</td>\n",
              "      <td>Oil Doloribus</td>\n",
              "      <td>5</td>\n",
              "      <td>37320</td>\n",
              "      <td>15</td>\n",
              "      <td>158610.0</td>\n",
              "      <td>36311.02</td>\n",
              "      <td>UPI</td>\n",
              "    </tr>\n",
              "    <tr>\n",
              "      <th>4</th>\n",
              "      <td>2025-01-19</td>\n",
              "      <td>West</td>\n",
              "      <td>Pune</td>\n",
              "      <td>Clothing</td>\n",
              "      <td>Kids Wear</td>\n",
              "      <td>Kids Wear Quo</td>\n",
              "      <td>1</td>\n",
              "      <td>50037</td>\n",
              "      <td>10</td>\n",
              "      <td>45033.3</td>\n",
              "      <td>9050.04</td>\n",
              "      <td>Debit Card</td>\n",
              "    </tr>\n",
              "  </tbody>\n",
              "</table>\n",
              "</div>"
            ],
            "text/plain": [
              "   Order Date Region       City   Category Sub-Category       Product Name  \\\n",
              "0  2024-10-19  South  Bangalore      Books  Non-Fiction  Non-Fiction Ipsum   \n",
              "1  2025-08-30  North      Delhi  Groceries         Rice          Rice Nemo   \n",
              "2  2023-11-04   East      Patna    Kitchen       Juicer        Juicer Odio   \n",
              "3  2025-05-23   East    Kolkata  Groceries          Oil      Oil Doloribus   \n",
              "4  2025-01-19   West       Pune   Clothing    Kids Wear      Kids Wear Quo   \n",
              "\n",
              "   Quantity  Unit Price  Discount     Sales    Profit Payment Mode  \n",
              "0         2       36294         5   68958.6  10525.09   Debit Card  \n",
              "1         1       42165        20   33732.0   6299.66   Debit Card  \n",
              "2         4       64876        20  207603.2  19850.27  Credit Card  \n",
              "3         5       37320        15  158610.0  36311.02          UPI  \n",
              "4         1       50037        10   45033.3   9050.04   Debit Card  "
            ]
          },
          "execution_count": 175,
          "metadata": {},
          "output_type": "execute_result"
        }
      ],
      "source": [
        "df.head()"
      ]
    },
    {
      "cell_type": "code",
      "execution_count": 176,
      "metadata": {
        "colab": {
          "base_uri": "https://localhost:8080/",
          "height": 241
        },
        "id": "FUVsXLRVpZbK",
        "outputId": "9e74b066-44ca-4e38-b23e-e3c107021ca8"
      },
      "outputs": [
        {
          "data": {
            "text/plain": [
              "Region\n",
              "North    1288\n",
              "East     1256\n",
              "West     1241\n",
              "South    1215\n",
              "Name: count, dtype: int64"
            ]
          },
          "execution_count": 176,
          "metadata": {},
          "output_type": "execute_result"
        }
      ],
      "source": [
        "df['Region'].value_counts()"
      ]
    },
    {
      "cell_type": "code",
      "execution_count": 177,
      "metadata": {
        "id": "t24b08UwprIR"
      },
      "outputs": [],
      "source": [
        "categorical_cols = ['Region', 'City', 'Category', 'Sub-Category', 'Payment Mode']\n",
        "\n",
        "df = pd.get_dummies(df, columns=categorical_cols, drop_first=True)\n"
      ]
    },
    {
      "cell_type": "code",
      "execution_count": 178,
      "metadata": {
        "colab": {
          "base_uri": "https://localhost:8080/",
          "height": 411
        },
        "id": "FOv9f32hrgIN",
        "outputId": "89768fa8-ee43-41fa-d4ad-4f065aaf9af7"
      },
      "outputs": [
        {
          "data": {
            "text/html": [
              "<div>\n",
              "<style scoped>\n",
              "    .dataframe tbody tr th:only-of-type {\n",
              "        vertical-align: middle;\n",
              "    }\n",
              "\n",
              "    .dataframe tbody tr th {\n",
              "        vertical-align: top;\n",
              "    }\n",
              "\n",
              "    .dataframe thead th {\n",
              "        text-align: right;\n",
              "    }\n",
              "</style>\n",
              "<table border=\"1\" class=\"dataframe\">\n",
              "  <thead>\n",
              "    <tr style=\"text-align: right;\">\n",
              "      <th></th>\n",
              "      <th>Order Date</th>\n",
              "      <th>Product Name</th>\n",
              "      <th>Quantity</th>\n",
              "      <th>Unit Price</th>\n",
              "      <th>Discount</th>\n",
              "      <th>Sales</th>\n",
              "      <th>Profit</th>\n",
              "      <th>Region_North</th>\n",
              "      <th>Region_South</th>\n",
              "      <th>Region_West</th>\n",
              "      <th>...</th>\n",
              "      <th>Sub-Category_Textbook</th>\n",
              "      <th>Sub-Category_Vase</th>\n",
              "      <th>Sub-Category_Wall Art</th>\n",
              "      <th>Sub-Category_Wheat</th>\n",
              "      <th>Sub-Category_Women's Wear</th>\n",
              "      <th>Sub-Category_Yoga Mat</th>\n",
              "      <th>Payment Mode_Credit Card</th>\n",
              "      <th>Payment Mode_Debit Card</th>\n",
              "      <th>Payment Mode_Net Banking</th>\n",
              "      <th>Payment Mode_UPI</th>\n",
              "    </tr>\n",
              "  </thead>\n",
              "  <tbody>\n",
              "    <tr>\n",
              "      <th>0</th>\n",
              "      <td>2024-10-19</td>\n",
              "      <td>Non-Fiction Ipsum</td>\n",
              "      <td>2</td>\n",
              "      <td>36294</td>\n",
              "      <td>5</td>\n",
              "      <td>68958.6</td>\n",
              "      <td>10525.09</td>\n",
              "      <td>False</td>\n",
              "      <td>True</td>\n",
              "      <td>False</td>\n",
              "      <td>...</td>\n",
              "      <td>False</td>\n",
              "      <td>False</td>\n",
              "      <td>False</td>\n",
              "      <td>False</td>\n",
              "      <td>False</td>\n",
              "      <td>False</td>\n",
              "      <td>False</td>\n",
              "      <td>True</td>\n",
              "      <td>False</td>\n",
              "      <td>False</td>\n",
              "    </tr>\n",
              "    <tr>\n",
              "      <th>1</th>\n",
              "      <td>2025-08-30</td>\n",
              "      <td>Rice Nemo</td>\n",
              "      <td>1</td>\n",
              "      <td>42165</td>\n",
              "      <td>20</td>\n",
              "      <td>33732.0</td>\n",
              "      <td>6299.66</td>\n",
              "      <td>True</td>\n",
              "      <td>False</td>\n",
              "      <td>False</td>\n",
              "      <td>...</td>\n",
              "      <td>False</td>\n",
              "      <td>False</td>\n",
              "      <td>False</td>\n",
              "      <td>False</td>\n",
              "      <td>False</td>\n",
              "      <td>False</td>\n",
              "      <td>False</td>\n",
              "      <td>True</td>\n",
              "      <td>False</td>\n",
              "      <td>False</td>\n",
              "    </tr>\n",
              "    <tr>\n",
              "      <th>2</th>\n",
              "      <td>2023-11-04</td>\n",
              "      <td>Juicer Odio</td>\n",
              "      <td>4</td>\n",
              "      <td>64876</td>\n",
              "      <td>20</td>\n",
              "      <td>207603.2</td>\n",
              "      <td>19850.27</td>\n",
              "      <td>False</td>\n",
              "      <td>False</td>\n",
              "      <td>False</td>\n",
              "      <td>...</td>\n",
              "      <td>False</td>\n",
              "      <td>False</td>\n",
              "      <td>False</td>\n",
              "      <td>False</td>\n",
              "      <td>False</td>\n",
              "      <td>False</td>\n",
              "      <td>True</td>\n",
              "      <td>False</td>\n",
              "      <td>False</td>\n",
              "      <td>False</td>\n",
              "    </tr>\n",
              "    <tr>\n",
              "      <th>3</th>\n",
              "      <td>2025-05-23</td>\n",
              "      <td>Oil Doloribus</td>\n",
              "      <td>5</td>\n",
              "      <td>37320</td>\n",
              "      <td>15</td>\n",
              "      <td>158610.0</td>\n",
              "      <td>36311.02</td>\n",
              "      <td>False</td>\n",
              "      <td>False</td>\n",
              "      <td>False</td>\n",
              "      <td>...</td>\n",
              "      <td>False</td>\n",
              "      <td>False</td>\n",
              "      <td>False</td>\n",
              "      <td>False</td>\n",
              "      <td>False</td>\n",
              "      <td>False</td>\n",
              "      <td>False</td>\n",
              "      <td>False</td>\n",
              "      <td>False</td>\n",
              "      <td>True</td>\n",
              "    </tr>\n",
              "    <tr>\n",
              "      <th>4</th>\n",
              "      <td>2025-01-19</td>\n",
              "      <td>Kids Wear Quo</td>\n",
              "      <td>1</td>\n",
              "      <td>50037</td>\n",
              "      <td>10</td>\n",
              "      <td>45033.3</td>\n",
              "      <td>9050.04</td>\n",
              "      <td>False</td>\n",
              "      <td>False</td>\n",
              "      <td>True</td>\n",
              "      <td>...</td>\n",
              "      <td>False</td>\n",
              "      <td>False</td>\n",
              "      <td>False</td>\n",
              "      <td>False</td>\n",
              "      <td>False</td>\n",
              "      <td>False</td>\n",
              "      <td>False</td>\n",
              "      <td>True</td>\n",
              "      <td>False</td>\n",
              "      <td>False</td>\n",
              "    </tr>\n",
              "  </tbody>\n",
              "</table>\n",
              "<p>5 rows × 91 columns</p>\n",
              "</div>"
            ],
            "text/plain": [
              "   Order Date       Product Name  Quantity  Unit Price  Discount     Sales  \\\n",
              "0  2024-10-19  Non-Fiction Ipsum         2       36294         5   68958.6   \n",
              "1  2025-08-30          Rice Nemo         1       42165        20   33732.0   \n",
              "2  2023-11-04        Juicer Odio         4       64876        20  207603.2   \n",
              "3  2025-05-23      Oil Doloribus         5       37320        15  158610.0   \n",
              "4  2025-01-19      Kids Wear Quo         1       50037        10   45033.3   \n",
              "\n",
              "     Profit  Region_North  Region_South  Region_West  ...  \\\n",
              "0  10525.09         False          True        False  ...   \n",
              "1   6299.66          True         False        False  ...   \n",
              "2  19850.27         False         False        False  ...   \n",
              "3  36311.02         False         False        False  ...   \n",
              "4   9050.04         False         False         True  ...   \n",
              "\n",
              "   Sub-Category_Textbook  Sub-Category_Vase  Sub-Category_Wall Art  \\\n",
              "0                  False              False                  False   \n",
              "1                  False              False                  False   \n",
              "2                  False              False                  False   \n",
              "3                  False              False                  False   \n",
              "4                  False              False                  False   \n",
              "\n",
              "   Sub-Category_Wheat  Sub-Category_Women's Wear  Sub-Category_Yoga Mat  \\\n",
              "0               False                      False                  False   \n",
              "1               False                      False                  False   \n",
              "2               False                      False                  False   \n",
              "3               False                      False                  False   \n",
              "4               False                      False                  False   \n",
              "\n",
              "   Payment Mode_Credit Card  Payment Mode_Debit Card  \\\n",
              "0                     False                     True   \n",
              "1                     False                     True   \n",
              "2                      True                    False   \n",
              "3                     False                    False   \n",
              "4                     False                     True   \n",
              "\n",
              "   Payment Mode_Net Banking  Payment Mode_UPI  \n",
              "0                     False             False  \n",
              "1                     False             False  \n",
              "2                     False             False  \n",
              "3                     False              True  \n",
              "4                     False             False  \n",
              "\n",
              "[5 rows x 91 columns]"
            ]
          },
          "execution_count": 178,
          "metadata": {},
          "output_type": "execute_result"
        }
      ],
      "source": [
        "df.head()"
      ]
    },
    {
      "cell_type": "code",
      "execution_count": 179,
      "metadata": {
        "id": "bM4sKeAkrhoY"
      },
      "outputs": [],
      "source": [
        "df['Order Date'] = pd.to_datetime(df['Order Date'])\n",
        "df['Year'] = df['Order Date'].dt.year\n",
        "df['Month'] = df['Order Date'].dt.month\n",
        "df['Day'] = df['Order Date'].dt.day\n",
        "df['Weekday'] = df['Order Date'].dt.day_name()\n",
        "df['Quarter'] = df['Order Date'].dt.quarter\n",
        "df['Is_Weekend'] = df['Order Date'].dt.weekday >= 5\n",
        "df = pd.get_dummies(df, columns=['Weekday', 'Is_Weekend'], drop_first=True)\n",
        "df['Month_sin'] = np.sin(2 * np.pi * df['Month'] / 12)\n",
        "df['Month_cos'] = np.cos(2 * np.pi * df['Month'] / 12)\n",
        "df['Day_sin'] = np.sin(2 * np.pi * df['Day'] / 31)\n",
        "df['Day_cos'] = np.cos(2 * np.pi * df['Day'] / 31)\n",
        "df = df.drop(['Order Date'], axis=1)\n"
      ]
    },
    {
      "cell_type": "code",
      "execution_count": 180,
      "metadata": {
        "colab": {
          "base_uri": "https://localhost:8080/",
          "height": 394
        },
        "id": "eXn3RNT3scUl",
        "outputId": "0abe6d6e-871f-4ffa-9f33-2d21625b9901"
      },
      "outputs": [
        {
          "data": {
            "text/html": [
              "<div>\n",
              "<style scoped>\n",
              "    .dataframe tbody tr th:only-of-type {\n",
              "        vertical-align: middle;\n",
              "    }\n",
              "\n",
              "    .dataframe tbody tr th {\n",
              "        vertical-align: top;\n",
              "    }\n",
              "\n",
              "    .dataframe thead th {\n",
              "        text-align: right;\n",
              "    }\n",
              "</style>\n",
              "<table border=\"1\" class=\"dataframe\">\n",
              "  <thead>\n",
              "    <tr style=\"text-align: right;\">\n",
              "      <th></th>\n",
              "      <th>Product Name</th>\n",
              "      <th>Quantity</th>\n",
              "      <th>Unit Price</th>\n",
              "      <th>Discount</th>\n",
              "      <th>Sales</th>\n",
              "      <th>Profit</th>\n",
              "      <th>Region_North</th>\n",
              "      <th>Region_South</th>\n",
              "      <th>Region_West</th>\n",
              "      <th>City_Amritsar</th>\n",
              "      <th>...</th>\n",
              "      <th>Weekday_Saturday</th>\n",
              "      <th>Weekday_Sunday</th>\n",
              "      <th>Weekday_Thursday</th>\n",
              "      <th>Weekday_Tuesday</th>\n",
              "      <th>Weekday_Wednesday</th>\n",
              "      <th>Is_Weekend_True</th>\n",
              "      <th>Month_sin</th>\n",
              "      <th>Month_cos</th>\n",
              "      <th>Day_sin</th>\n",
              "      <th>Day_cos</th>\n",
              "    </tr>\n",
              "  </thead>\n",
              "  <tbody>\n",
              "    <tr>\n",
              "      <th>0</th>\n",
              "      <td>Non-Fiction Ipsum</td>\n",
              "      <td>2</td>\n",
              "      <td>36294</td>\n",
              "      <td>5</td>\n",
              "      <td>68958.6</td>\n",
              "      <td>10525.09</td>\n",
              "      <td>False</td>\n",
              "      <td>True</td>\n",
              "      <td>False</td>\n",
              "      <td>False</td>\n",
              "      <td>...</td>\n",
              "      <td>True</td>\n",
              "      <td>False</td>\n",
              "      <td>False</td>\n",
              "      <td>False</td>\n",
              "      <td>False</td>\n",
              "      <td>True</td>\n",
              "      <td>-0.866025</td>\n",
              "      <td>0.500000</td>\n",
              "      <td>-0.651372</td>\n",
              "      <td>-0.758758</td>\n",
              "    </tr>\n",
              "    <tr>\n",
              "      <th>1</th>\n",
              "      <td>Rice Nemo</td>\n",
              "      <td>1</td>\n",
              "      <td>42165</td>\n",
              "      <td>20</td>\n",
              "      <td>33732.0</td>\n",
              "      <td>6299.66</td>\n",
              "      <td>True</td>\n",
              "      <td>False</td>\n",
              "      <td>False</td>\n",
              "      <td>False</td>\n",
              "      <td>...</td>\n",
              "      <td>True</td>\n",
              "      <td>False</td>\n",
              "      <td>False</td>\n",
              "      <td>False</td>\n",
              "      <td>False</td>\n",
              "      <td>True</td>\n",
              "      <td>-0.866025</td>\n",
              "      <td>-0.500000</td>\n",
              "      <td>-0.201299</td>\n",
              "      <td>0.979530</td>\n",
              "    </tr>\n",
              "    <tr>\n",
              "      <th>2</th>\n",
              "      <td>Juicer Odio</td>\n",
              "      <td>4</td>\n",
              "      <td>64876</td>\n",
              "      <td>20</td>\n",
              "      <td>207603.2</td>\n",
              "      <td>19850.27</td>\n",
              "      <td>False</td>\n",
              "      <td>False</td>\n",
              "      <td>False</td>\n",
              "      <td>False</td>\n",
              "      <td>...</td>\n",
              "      <td>True</td>\n",
              "      <td>False</td>\n",
              "      <td>False</td>\n",
              "      <td>False</td>\n",
              "      <td>False</td>\n",
              "      <td>True</td>\n",
              "      <td>-0.500000</td>\n",
              "      <td>0.866025</td>\n",
              "      <td>0.724793</td>\n",
              "      <td>0.688967</td>\n",
              "    </tr>\n",
              "    <tr>\n",
              "      <th>3</th>\n",
              "      <td>Oil Doloribus</td>\n",
              "      <td>5</td>\n",
              "      <td>37320</td>\n",
              "      <td>15</td>\n",
              "      <td>158610.0</td>\n",
              "      <td>36311.02</td>\n",
              "      <td>False</td>\n",
              "      <td>False</td>\n",
              "      <td>False</td>\n",
              "      <td>False</td>\n",
              "      <td>...</td>\n",
              "      <td>False</td>\n",
              "      <td>False</td>\n",
              "      <td>False</td>\n",
              "      <td>False</td>\n",
              "      <td>False</td>\n",
              "      <td>False</td>\n",
              "      <td>0.500000</td>\n",
              "      <td>-0.866025</td>\n",
              "      <td>-0.998717</td>\n",
              "      <td>-0.050649</td>\n",
              "    </tr>\n",
              "    <tr>\n",
              "      <th>4</th>\n",
              "      <td>Kids Wear Quo</td>\n",
              "      <td>1</td>\n",
              "      <td>50037</td>\n",
              "      <td>10</td>\n",
              "      <td>45033.3</td>\n",
              "      <td>9050.04</td>\n",
              "      <td>False</td>\n",
              "      <td>False</td>\n",
              "      <td>True</td>\n",
              "      <td>False</td>\n",
              "      <td>...</td>\n",
              "      <td>False</td>\n",
              "      <td>True</td>\n",
              "      <td>False</td>\n",
              "      <td>False</td>\n",
              "      <td>False</td>\n",
              "      <td>True</td>\n",
              "      <td>0.500000</td>\n",
              "      <td>0.866025</td>\n",
              "      <td>-0.651372</td>\n",
              "      <td>-0.758758</td>\n",
              "    </tr>\n",
              "  </tbody>\n",
              "</table>\n",
              "<p>5 rows × 105 columns</p>\n",
              "</div>"
            ],
            "text/plain": [
              "        Product Name  Quantity  Unit Price  Discount     Sales    Profit  \\\n",
              "0  Non-Fiction Ipsum         2       36294         5   68958.6  10525.09   \n",
              "1          Rice Nemo         1       42165        20   33732.0   6299.66   \n",
              "2        Juicer Odio         4       64876        20  207603.2  19850.27   \n",
              "3      Oil Doloribus         5       37320        15  158610.0  36311.02   \n",
              "4      Kids Wear Quo         1       50037        10   45033.3   9050.04   \n",
              "\n",
              "   Region_North  Region_South  Region_West  City_Amritsar  ...  \\\n",
              "0         False          True        False          False  ...   \n",
              "1          True         False        False          False  ...   \n",
              "2         False         False        False          False  ...   \n",
              "3         False         False        False          False  ...   \n",
              "4         False         False         True          False  ...   \n",
              "\n",
              "   Weekday_Saturday  Weekday_Sunday  Weekday_Thursday  Weekday_Tuesday  \\\n",
              "0              True           False             False            False   \n",
              "1              True           False             False            False   \n",
              "2              True           False             False            False   \n",
              "3             False           False             False            False   \n",
              "4             False            True             False            False   \n",
              "\n",
              "   Weekday_Wednesday  Is_Weekend_True  Month_sin  Month_cos   Day_sin  \\\n",
              "0              False             True  -0.866025   0.500000 -0.651372   \n",
              "1              False             True  -0.866025  -0.500000 -0.201299   \n",
              "2              False             True  -0.500000   0.866025  0.724793   \n",
              "3              False            False   0.500000  -0.866025 -0.998717   \n",
              "4              False             True   0.500000   0.866025 -0.651372   \n",
              "\n",
              "    Day_cos  \n",
              "0 -0.758758  \n",
              "1  0.979530  \n",
              "2  0.688967  \n",
              "3 -0.050649  \n",
              "4 -0.758758  \n",
              "\n",
              "[5 rows x 105 columns]"
            ]
          },
          "execution_count": 180,
          "metadata": {},
          "output_type": "execute_result"
        }
      ],
      "source": [
        "df.head()"
      ]
    },
    {
      "cell_type": "code",
      "execution_count": 181,
      "metadata": {
        "id": "cfphmFVwse8M"
      },
      "outputs": [],
      "source": [
        "\n",
        "bool_cols = df.select_dtypes(include=['bool']).columns\n",
        "df[bool_cols] = df[bool_cols].astype(int)\n"
      ]
    },
    {
      "cell_type": "code",
      "execution_count": 182,
      "metadata": {
        "id": "jGeyFAJGtdNE"
      },
      "outputs": [],
      "source": [
        "df['Product_Avg_Sales'] = df.groupby('Product Name')['Sales'].transform('mean')\n",
        "df['Product_Avg_Profit'] = df.groupby('Product Name')['Profit'].transform('mean')\n",
        "df['Product_Order_Count'] = df.groupby('Product Name')['Quantity'].transform('count')\n"
      ]
    },
    {
      "cell_type": "code",
      "execution_count": 183,
      "metadata": {
        "id": "j38zW16yteuq"
      },
      "outputs": [],
      "source": [
        "df = df.drop('Product Name', axis=1)\n"
      ]
    },
    {
      "cell_type": "code",
      "execution_count": 184,
      "metadata": {
        "colab": {
          "base_uri": "https://localhost:8080/",
          "height": 273
        },
        "id": "C9eb5Hv90TfU",
        "outputId": "3f918442-b51a-4d20-9c9f-f8690dc6444d"
      },
      "outputs": [
        {
          "data": {
            "text/html": [
              "<div>\n",
              "<style scoped>\n",
              "    .dataframe tbody tr th:only-of-type {\n",
              "        vertical-align: middle;\n",
              "    }\n",
              "\n",
              "    .dataframe tbody tr th {\n",
              "        vertical-align: top;\n",
              "    }\n",
              "\n",
              "    .dataframe thead th {\n",
              "        text-align: right;\n",
              "    }\n",
              "</style>\n",
              "<table border=\"1\" class=\"dataframe\">\n",
              "  <thead>\n",
              "    <tr style=\"text-align: right;\">\n",
              "      <th></th>\n",
              "      <th>Quantity</th>\n",
              "      <th>Unit Price</th>\n",
              "      <th>Discount</th>\n",
              "      <th>Sales</th>\n",
              "      <th>Profit</th>\n",
              "      <th>Region_North</th>\n",
              "      <th>Region_South</th>\n",
              "      <th>Region_West</th>\n",
              "      <th>City_Amritsar</th>\n",
              "      <th>City_Bangalore</th>\n",
              "      <th>...</th>\n",
              "      <th>Weekday_Tuesday</th>\n",
              "      <th>Weekday_Wednesday</th>\n",
              "      <th>Is_Weekend_True</th>\n",
              "      <th>Month_sin</th>\n",
              "      <th>Month_cos</th>\n",
              "      <th>Day_sin</th>\n",
              "      <th>Day_cos</th>\n",
              "      <th>Product_Avg_Sales</th>\n",
              "      <th>Product_Avg_Profit</th>\n",
              "      <th>Product_Order_Count</th>\n",
              "    </tr>\n",
              "  </thead>\n",
              "  <tbody>\n",
              "    <tr>\n",
              "      <th>0</th>\n",
              "      <td>2</td>\n",
              "      <td>36294</td>\n",
              "      <td>5</td>\n",
              "      <td>68958.6</td>\n",
              "      <td>10525.09</td>\n",
              "      <td>0</td>\n",
              "      <td>1</td>\n",
              "      <td>0</td>\n",
              "      <td>0</td>\n",
              "      <td>1</td>\n",
              "      <td>...</td>\n",
              "      <td>0</td>\n",
              "      <td>0</td>\n",
              "      <td>1</td>\n",
              "      <td>-0.866025</td>\n",
              "      <td>0.500000</td>\n",
              "      <td>-0.651372</td>\n",
              "      <td>-0.758758</td>\n",
              "      <td>178956.800000</td>\n",
              "      <td>25479.505000</td>\n",
              "      <td>2</td>\n",
              "    </tr>\n",
              "    <tr>\n",
              "      <th>1</th>\n",
              "      <td>1</td>\n",
              "      <td>42165</td>\n",
              "      <td>20</td>\n",
              "      <td>33732.0</td>\n",
              "      <td>6299.66</td>\n",
              "      <td>1</td>\n",
              "      <td>0</td>\n",
              "      <td>0</td>\n",
              "      <td>0</td>\n",
              "      <td>0</td>\n",
              "      <td>...</td>\n",
              "      <td>0</td>\n",
              "      <td>0</td>\n",
              "      <td>1</td>\n",
              "      <td>-0.866025</td>\n",
              "      <td>-0.500000</td>\n",
              "      <td>-0.201299</td>\n",
              "      <td>0.979530</td>\n",
              "      <td>40187.450000</td>\n",
              "      <td>6750.535000</td>\n",
              "      <td>2</td>\n",
              "    </tr>\n",
              "    <tr>\n",
              "      <th>2</th>\n",
              "      <td>4</td>\n",
              "      <td>64876</td>\n",
              "      <td>20</td>\n",
              "      <td>207603.2</td>\n",
              "      <td>19850.27</td>\n",
              "      <td>0</td>\n",
              "      <td>0</td>\n",
              "      <td>0</td>\n",
              "      <td>0</td>\n",
              "      <td>0</td>\n",
              "      <td>...</td>\n",
              "      <td>0</td>\n",
              "      <td>0</td>\n",
              "      <td>1</td>\n",
              "      <td>-0.500000</td>\n",
              "      <td>0.866025</td>\n",
              "      <td>0.724793</td>\n",
              "      <td>0.688967</td>\n",
              "      <td>91628.666667</td>\n",
              "      <td>10663.603333</td>\n",
              "      <td>3</td>\n",
              "    </tr>\n",
              "    <tr>\n",
              "      <th>3</th>\n",
              "      <td>5</td>\n",
              "      <td>37320</td>\n",
              "      <td>15</td>\n",
              "      <td>158610.0</td>\n",
              "      <td>36311.02</td>\n",
              "      <td>0</td>\n",
              "      <td>0</td>\n",
              "      <td>0</td>\n",
              "      <td>0</td>\n",
              "      <td>0</td>\n",
              "      <td>...</td>\n",
              "      <td>0</td>\n",
              "      <td>0</td>\n",
              "      <td>0</td>\n",
              "      <td>0.500000</td>\n",
              "      <td>-0.866025</td>\n",
              "      <td>-0.998717</td>\n",
              "      <td>-0.050649</td>\n",
              "      <td>158610.000000</td>\n",
              "      <td>36311.020000</td>\n",
              "      <td>1</td>\n",
              "    </tr>\n",
              "    <tr>\n",
              "      <th>4</th>\n",
              "      <td>1</td>\n",
              "      <td>50037</td>\n",
              "      <td>10</td>\n",
              "      <td>45033.3</td>\n",
              "      <td>9050.04</td>\n",
              "      <td>0</td>\n",
              "      <td>0</td>\n",
              "      <td>1</td>\n",
              "      <td>0</td>\n",
              "      <td>0</td>\n",
              "      <td>...</td>\n",
              "      <td>0</td>\n",
              "      <td>0</td>\n",
              "      <td>1</td>\n",
              "      <td>0.500000</td>\n",
              "      <td>0.866025</td>\n",
              "      <td>-0.651372</td>\n",
              "      <td>-0.758758</td>\n",
              "      <td>40532.850000</td>\n",
              "      <td>6372.065000</td>\n",
              "      <td>2</td>\n",
              "    </tr>\n",
              "  </tbody>\n",
              "</table>\n",
              "<p>5 rows × 107 columns</p>\n",
              "</div>"
            ],
            "text/plain": [
              "   Quantity  Unit Price  Discount     Sales    Profit  Region_North  \\\n",
              "0         2       36294         5   68958.6  10525.09             0   \n",
              "1         1       42165        20   33732.0   6299.66             1   \n",
              "2         4       64876        20  207603.2  19850.27             0   \n",
              "3         5       37320        15  158610.0  36311.02             0   \n",
              "4         1       50037        10   45033.3   9050.04             0   \n",
              "\n",
              "   Region_South  Region_West  City_Amritsar  City_Bangalore  ...  \\\n",
              "0             1            0              0               1  ...   \n",
              "1             0            0              0               0  ...   \n",
              "2             0            0              0               0  ...   \n",
              "3             0            0              0               0  ...   \n",
              "4             0            1              0               0  ...   \n",
              "\n",
              "   Weekday_Tuesday  Weekday_Wednesday  Is_Weekend_True  Month_sin  Month_cos  \\\n",
              "0                0                  0                1  -0.866025   0.500000   \n",
              "1                0                  0                1  -0.866025  -0.500000   \n",
              "2                0                  0                1  -0.500000   0.866025   \n",
              "3                0                  0                0   0.500000  -0.866025   \n",
              "4                0                  0                1   0.500000   0.866025   \n",
              "\n",
              "    Day_sin   Day_cos  Product_Avg_Sales  Product_Avg_Profit  \\\n",
              "0 -0.651372 -0.758758      178956.800000        25479.505000   \n",
              "1 -0.201299  0.979530       40187.450000         6750.535000   \n",
              "2  0.724793  0.688967       91628.666667        10663.603333   \n",
              "3 -0.998717 -0.050649      158610.000000        36311.020000   \n",
              "4 -0.651372 -0.758758       40532.850000         6372.065000   \n",
              "\n",
              "   Product_Order_Count  \n",
              "0                    2  \n",
              "1                    2  \n",
              "2                    3  \n",
              "3                    1  \n",
              "4                    2  \n",
              "\n",
              "[5 rows x 107 columns]"
            ]
          },
          "execution_count": 184,
          "metadata": {},
          "output_type": "execute_result"
        }
      ],
      "source": [
        "df.head()"
      ]
    },
    {
      "cell_type": "code",
      "execution_count": 185,
      "metadata": {
        "id": "iGGTM8fp15lT"
      },
      "outputs": [],
      "source": [
        "X=df.drop('Sales',axis=1)\n",
        "y=df['Sales']"
      ]
    },
    {
      "cell_type": "code",
      "execution_count": 186,
      "metadata": {
        "id": "902Rwzzs2XcV"
      },
      "outputs": [],
      "source": [
        "X_train, X_test, y_train, y_test = train_test_split(\n",
        "    X, y, test_size=0.20, random_state=42)\n"
      ]
    },
    {
      "cell_type": "code",
      "execution_count": null,
      "metadata": {
        "colab": {
          "base_uri": "https://localhost:8080/"
        },
        "id": "bQq3nffP31_P",
        "outputId": "68e7b5e8-756d-4929-bdc3-33e192da9413"
      },
      "outputs": [],
      "source": []
    },
    {
      "cell_type": "code",
      "execution_count": 190,
      "metadata": {
        "colab": {
          "base_uri": "https://localhost:8080/"
        },
        "id": "sKlwqjLL4gfY",
        "outputId": "bc283238-29db-4cdc-d352-ebb39f34a3f0"
      },
      "outputs": [
        {
          "ename": "ImportError",
          "evalue": "cannot import name 'make_jcargs' from 'xgboost.core' (c:\\Users\\vikas\\AppData\\Local\\Programs\\Python\\Python313\\Lib\\site-packages\\xgboost\\core.py)",
          "output_type": "error",
          "traceback": [
            "\u001b[31m---------------------------------------------------------------------------\u001b[39m",
            "\u001b[31mImportError\u001b[39m                               Traceback (most recent call last)",
            "\u001b[36mCell\u001b[39m\u001b[36m \u001b[39m\u001b[32mIn[190]\u001b[39m\u001b[32m, line 1\u001b[39m\n\u001b[32m----> \u001b[39m\u001b[32m1\u001b[39m \u001b[38;5;28;01mimport\u001b[39;00m\u001b[38;5;250m \u001b[39m\u001b[34;01mxgboost\u001b[39;00m\n",
            "\u001b[36mFile \u001b[39m\u001b[32mc:\\Users\\vikas\\AppData\\Local\\Programs\\Python\\Python313\\Lib\\site-packages\\xgboost\\__init__.py:7\u001b[39m\n\u001b[32m      1\u001b[39m \u001b[33;03m\"\"\"XGBoost: eXtreme Gradient Boosting library.\u001b[39;00m\n\u001b[32m      2\u001b[39m \n\u001b[32m      3\u001b[39m \u001b[33;03mContributors: https://github.com/dmlc/xgboost/blob/master/CONTRIBUTORS.md\u001b[39;00m\n\u001b[32m      4\u001b[39m \u001b[33;03m\"\"\"\u001b[39;00m\n\u001b[32m      6\u001b[39m \u001b[38;5;28;01mfrom\u001b[39;00m\u001b[38;5;250m \u001b[39m\u001b[34;01m.\u001b[39;00m\u001b[38;5;250m \u001b[39m\u001b[38;5;28;01mimport\u001b[39;00m tracker  \u001b[38;5;66;03m# noqa\u001b[39;00m\n\u001b[32m----> \u001b[39m\u001b[32m7\u001b[39m \u001b[38;5;28;01mfrom\u001b[39;00m\u001b[38;5;250m \u001b[39m\u001b[34;01m.\u001b[39;00m\u001b[38;5;250m \u001b[39m\u001b[38;5;28;01mimport\u001b[39;00m collective\n\u001b[32m      8\u001b[39m \u001b[38;5;28;01mfrom\u001b[39;00m\u001b[38;5;250m \u001b[39m\u001b[34;01m.\u001b[39;00m\u001b[34;01mcore\u001b[39;00m\u001b[38;5;250m \u001b[39m\u001b[38;5;28;01mimport\u001b[39;00m (\n\u001b[32m      9\u001b[39m     Booster,\n\u001b[32m     10\u001b[39m     DataIter,\n\u001b[32m   (...)\u001b[39m\u001b[32m     15\u001b[39m     build_info,\n\u001b[32m     16\u001b[39m )\n\u001b[32m     17\u001b[39m \u001b[38;5;28;01mfrom\u001b[39;00m\u001b[38;5;250m \u001b[39m\u001b[34;01m.\u001b[39;00m\u001b[34;01mtracker\u001b[39;00m\u001b[38;5;250m \u001b[39m\u001b[38;5;28;01mimport\u001b[39;00m RabitTracker  \u001b[38;5;66;03m# noqa\u001b[39;00m\n",
            "\u001b[36mFile \u001b[39m\u001b[32mc:\\Users\\vikas\\AppData\\Local\\Programs\\Python\\Python313\\Lib\\site-packages\\xgboost\\collective.py:14\u001b[39m\n\u001b[32m     11\u001b[39m \u001b[38;5;28;01mimport\u001b[39;00m\u001b[38;5;250m \u001b[39m\u001b[34;01mnumpy\u001b[39;00m\u001b[38;5;250m \u001b[39m\u001b[38;5;28;01mas\u001b[39;00m\u001b[38;5;250m \u001b[39m\u001b[34;01mnp\u001b[39;00m\n\u001b[32m     13\u001b[39m \u001b[38;5;28;01mfrom\u001b[39;00m\u001b[38;5;250m \u001b[39m\u001b[34;01m.\u001b[39;00m\u001b[34;01m_typing\u001b[39;00m\u001b[38;5;250m \u001b[39m\u001b[38;5;28;01mimport\u001b[39;00m _T\n\u001b[32m---> \u001b[39m\u001b[32m14\u001b[39m \u001b[38;5;28;01mfrom\u001b[39;00m\u001b[38;5;250m \u001b[39m\u001b[34;01m.\u001b[39;00m\u001b[34;01mcore\u001b[39;00m\u001b[38;5;250m \u001b[39m\u001b[38;5;28;01mimport\u001b[39;00m _LIB, _check_call, build_info, c_str, make_jcargs, py_str\n\u001b[32m     16\u001b[39m LOGGER = logging.getLogger(\u001b[33m\"\u001b[39m\u001b[33m[xgboost.collective]\u001b[39m\u001b[33m\"\u001b[39m)\n\u001b[32m     19\u001b[39m _ArgVals: TypeAlias = Optional[Union[\u001b[38;5;28mint\u001b[39m, \u001b[38;5;28mstr\u001b[39m]]\n",
            "\u001b[31mImportError\u001b[39m: cannot import name 'make_jcargs' from 'xgboost.core' (c:\\Users\\vikas\\AppData\\Local\\Programs\\Python\\Python313\\Lib\\site-packages\\xgboost\\core.py)"
          ]
        }
      ],
      "source": [
        "import xgboost\n"
      ]
    },
    {
      "cell_type": "code",
      "execution_count": null,
      "metadata": {
        "colab": {
          "base_uri": "https://localhost:8080/",
          "height": 1000,
          "referenced_widgets": [
            "f90afdc3f4c747c0b9f348d9b0e47e4a",
            "08994fd955ec4e30bc9a651587f0c2f3",
            "b04ac26a7c6e4cea9e3071f3912f552f",
            "f6d4d7a9da3b47afa0f3458cc7db4e48",
            "b73ace885046427dbde286b11f567509",
            "b500712d83584222934f8eef244892c7",
            "4cd1365be1ae41ca99eba04be224f317",
            "5370eb133fb24407af33c66a22bea296",
            "93e8694f394d44c0b6e7929f45e54c5b",
            "b732c2aa428142afb9eb526018546a6b",
            "5f948cca17ba4d98984e1da642640f09"
          ]
        },
        "id": "IH6oAJD42yhz",
        "outputId": "6adbb7b8-e735-4a9f-f1e0-b19b544b9b64"
      },
      "outputs": [
        {
          "ename": "ImportError",
          "evalue": "cannot import name 'make_jcargs' from 'xgboost.core' (c:\\Users\\vikas\\AppData\\Local\\Programs\\Python\\Python313\\Lib\\site-packages\\xgboost\\core.py)",
          "output_type": "error",
          "traceback": [
            "\u001b[31m---------------------------------------------------------------------------\u001b[39m",
            "\u001b[31mImportError\u001b[39m                               Traceback (most recent call last)",
            "\u001b[36mCell\u001b[39m\u001b[36m \u001b[39m\u001b[32mIn[187]\u001b[39m\u001b[32m, line 6\u001b[39m\n\u001b[32m      4\u001b[39m \u001b[38;5;28;01mfrom\u001b[39;00m\u001b[38;5;250m \u001b[39m\u001b[34;01msklearn\u001b[39;00m\u001b[34;01m.\u001b[39;00m\u001b[34;01mtree\u001b[39;00m\u001b[38;5;250m \u001b[39m\u001b[38;5;28;01mimport\u001b[39;00m DecisionTreeRegressor\n\u001b[32m      5\u001b[39m \u001b[38;5;28;01mfrom\u001b[39;00m\u001b[38;5;250m \u001b[39m\u001b[34;01msklearn\u001b[39;00m\u001b[34;01m.\u001b[39;00m\u001b[34;01mensemble\u001b[39;00m\u001b[38;5;250m \u001b[39m\u001b[38;5;28;01mimport\u001b[39;00m RandomForestRegressor\n\u001b[32m----> \u001b[39m\u001b[32m6\u001b[39m \u001b[38;5;28;01mimport\u001b[39;00m\u001b[38;5;250m \u001b[39m\u001b[34;01mxgboost\u001b[39;00m\u001b[38;5;250m \u001b[39m\u001b[38;5;28;01mas\u001b[39;00m\u001b[38;5;250m \u001b[39m\u001b[34;01mxgb\u001b[39;00m\n\u001b[32m      7\u001b[39m \u001b[38;5;28;01mimport\u001b[39;00m\u001b[38;5;250m \u001b[39m\u001b[34;01mlightgbm\u001b[39;00m\u001b[38;5;250m \u001b[39m\u001b[38;5;28;01mas\u001b[39;00m\u001b[38;5;250m \u001b[39m\u001b[34;01mlgb\u001b[39;00m\n\u001b[32m      8\u001b[39m \u001b[38;5;28;01mfrom\u001b[39;00m\u001b[38;5;250m \u001b[39m\u001b[34;01msklearn\u001b[39;00m\u001b[34;01m.\u001b[39;00m\u001b[34;01mmetrics\u001b[39;00m\u001b[38;5;250m \u001b[39m\u001b[38;5;28;01mimport\u001b[39;00m mean_squared_error\n",
            "\u001b[36mFile \u001b[39m\u001b[32mc:\\Users\\vikas\\AppData\\Local\\Programs\\Python\\Python313\\Lib\\site-packages\\xgboost\\__init__.py:7\u001b[39m\n\u001b[32m      1\u001b[39m \u001b[33;03m\"\"\"XGBoost: eXtreme Gradient Boosting library.\u001b[39;00m\n\u001b[32m      2\u001b[39m \n\u001b[32m      3\u001b[39m \u001b[33;03mContributors: https://github.com/dmlc/xgboost/blob/master/CONTRIBUTORS.md\u001b[39;00m\n\u001b[32m      4\u001b[39m \u001b[33;03m\"\"\"\u001b[39;00m\n\u001b[32m      6\u001b[39m \u001b[38;5;28;01mfrom\u001b[39;00m\u001b[38;5;250m \u001b[39m\u001b[34;01m.\u001b[39;00m\u001b[38;5;250m \u001b[39m\u001b[38;5;28;01mimport\u001b[39;00m tracker  \u001b[38;5;66;03m# noqa\u001b[39;00m\n\u001b[32m----> \u001b[39m\u001b[32m7\u001b[39m \u001b[38;5;28;01mfrom\u001b[39;00m\u001b[38;5;250m \u001b[39m\u001b[34;01m.\u001b[39;00m\u001b[38;5;250m \u001b[39m\u001b[38;5;28;01mimport\u001b[39;00m collective\n\u001b[32m      8\u001b[39m \u001b[38;5;28;01mfrom\u001b[39;00m\u001b[38;5;250m \u001b[39m\u001b[34;01m.\u001b[39;00m\u001b[34;01mcore\u001b[39;00m\u001b[38;5;250m \u001b[39m\u001b[38;5;28;01mimport\u001b[39;00m (\n\u001b[32m      9\u001b[39m     Booster,\n\u001b[32m     10\u001b[39m     DataIter,\n\u001b[32m   (...)\u001b[39m\u001b[32m     15\u001b[39m     build_info,\n\u001b[32m     16\u001b[39m )\n\u001b[32m     17\u001b[39m \u001b[38;5;28;01mfrom\u001b[39;00m\u001b[38;5;250m \u001b[39m\u001b[34;01m.\u001b[39;00m\u001b[34;01mtracker\u001b[39;00m\u001b[38;5;250m \u001b[39m\u001b[38;5;28;01mimport\u001b[39;00m RabitTracker  \u001b[38;5;66;03m# noqa\u001b[39;00m\n",
            "\u001b[36mFile \u001b[39m\u001b[32mc:\\Users\\vikas\\AppData\\Local\\Programs\\Python\\Python313\\Lib\\site-packages\\xgboost\\collective.py:14\u001b[39m\n\u001b[32m     11\u001b[39m \u001b[38;5;28;01mimport\u001b[39;00m\u001b[38;5;250m \u001b[39m\u001b[34;01mnumpy\u001b[39;00m\u001b[38;5;250m \u001b[39m\u001b[38;5;28;01mas\u001b[39;00m\u001b[38;5;250m \u001b[39m\u001b[34;01mnp\u001b[39;00m\n\u001b[32m     13\u001b[39m \u001b[38;5;28;01mfrom\u001b[39;00m\u001b[38;5;250m \u001b[39m\u001b[34;01m.\u001b[39;00m\u001b[34;01m_typing\u001b[39;00m\u001b[38;5;250m \u001b[39m\u001b[38;5;28;01mimport\u001b[39;00m _T\n\u001b[32m---> \u001b[39m\u001b[32m14\u001b[39m \u001b[38;5;28;01mfrom\u001b[39;00m\u001b[38;5;250m \u001b[39m\u001b[34;01m.\u001b[39;00m\u001b[34;01mcore\u001b[39;00m\u001b[38;5;250m \u001b[39m\u001b[38;5;28;01mimport\u001b[39;00m _LIB, _check_call, build_info, c_str, make_jcargs, py_str\n\u001b[32m     16\u001b[39m LOGGER = logging.getLogger(\u001b[33m\"\u001b[39m\u001b[33m[xgboost.collective]\u001b[39m\u001b[33m\"\u001b[39m)\n\u001b[32m     19\u001b[39m _ArgVals: TypeAlias = Optional[Union[\u001b[38;5;28mint\u001b[39m, \u001b[38;5;28mstr\u001b[39m]]\n",
            "\u001b[31mImportError\u001b[39m: cannot import name 'make_jcargs' from 'xgboost.core' (c:\\Users\\vikas\\AppData\\Local\\Programs\\Python\\Python313\\Lib\\site-packages\\xgboost\\core.py)"
          ]
        }
      ],
      "source": [
        "# -------------------------------\n",
        " \n",
        "import optuna\n",
        "from sklearn.tree import DecisionTreeRegressor\n",
        "from sklearn.ensemble import RandomForestRegressor\n",
        "import\n",
        "import lightgbm as lgb\n",
        "from sklearn.metrics import mean_squared_error\n",
        "import numpy as np\n",
        "\n",
        "# Optional CatBoost\n",
        "try:\n",
        "    import catboost as cb\n",
        "    CATBOOST_INSTALLED = True\n",
        "except:\n",
        "    CATBOOST_INSTALLED = False\n",
        "    print(\"CatBoost not installed, skipping it.\")\n",
        "\n",
        "# -------------------------------\n",
        "\n",
        "def objective(trial):\n",
        "    # Available models\n",
        "    models = [\"DecisionTree\", \"RandomForest\", \"XGBoost\", \"LightGBM\"]\n",
        "    if CATBOOST_INSTALLED:\n",
        "        models.append(\"CatBoost\")\n",
        "\n",
        "    model_name = trial.suggest_categorical(\"model\", models)\n",
        "\n",
        "    if model_name == \"DecisionTree\":\n",
        "        max_depth = trial.suggest_int(\"dt_max_depth\", 3, 20)\n",
        "        min_samples_split = trial.suggest_int(\"dt_min_samples_split\", 2, 20)\n",
        "        model = DecisionTreeRegressor(max_depth=max_depth,\n",
        "                                      min_samples_split=min_samples_split,\n",
        "                                      random_state=42)\n",
        "\n",
        "    elif model_name == \"RandomForest\":\n",
        "        n_estimators = trial.suggest_int(\"rf_n_estimators\", 50, 500)\n",
        "        max_depth = trial.suggest_int(\"rf_max_depth\", 3, 20)\n",
        "        min_samples_split = trial.suggest_int(\"rf_min_samples_split\", 2, 20)\n",
        "        model = RandomForestRegressor(n_estimators=n_estimators,\n",
        "                                      max_depth=max_depth,\n",
        "                                      min_samples_split=min_samples_split,\n",
        "                                      n_jobs=-1,\n",
        "                                      random_state=42)\n",
        "\n",
        "    elif model_name == \"XGBoost\":\n",
        "        n_estimators = trial.suggest_int(\"xgb_n_estimators\", 50, 500)\n",
        "        max_depth = trial.suggest_int(\"xgb_max_depth\", 3, 15)\n",
        "        learning_rate = trial.suggest_float(\"xgb_lr\", 0.01, 0.3)\n",
        "        subsample = trial.suggest_float(\"xgb_subsample\", 0.5, 1.0)\n",
        "        model = xgb.XGBRegressor(n_estimators=n_estimators,\n",
        "                                 max_depth=max_depth,\n",
        "                                 learning_rate=learning_rate,\n",
        "                                 subsample=subsample,\n",
        "                                 n_jobs=-1,\n",
        "                                 random_state=42,\n",
        "                                 tree_method='hist')\n",
        "\n",
        "    elif model_name == \"LightGBM\":\n",
        "        n_estimators = trial.suggest_int(\"lgb_n_estimators\", 50, 500)\n",
        "        max_depth = trial.suggest_int(\"lgb_max_depth\", 3, 20)\n",
        "        learning_rate = trial.suggest_float(\"lgb_lr\", 0.01, 0.3)\n",
        "        num_leaves = trial.suggest_int(\"lgb_num_leaves\", 20, 150)\n",
        "        model = lgb.LGBMRegressor(n_estimators=n_estimators,\n",
        "                                  max_depth=max_depth,\n",
        "                                  learning_rate=learning_rate,\n",
        "                                  num_leaves=num_leaves,\n",
        "                                  n_jobs=-1,\n",
        "                                  random_state=42)\n",
        "\n",
        "    else:  # CatBoost\n",
        "        n_estimators = trial.suggest_int(\"cb_n_estimators\", 50, 500)\n",
        "        max_depth = trial.suggest_int(\"cb_max_depth\", 3, 10)\n",
        "        learning_rate = trial.suggest_float(\"cb_lr\", 0.01, 0.3)\n",
        "        model = cb.CatBoostRegressor(iterations=n_estimators,\n",
        "                                     depth=max_depth,\n",
        "                                     learning_rate=learning_rate,\n",
        "                                     silent=True,\n",
        "                                     random_state=42)\n",
        "\n",
        "    # -------------------------------\n",
        "    # Train & evaluate\n",
        "    model.fit(X_train, y_train)\n",
        "    preds = model.predict(X_test)\n",
        "    rmse = np.sqrt(mean_squared_error(y_test, preds))\n",
        "    return rmse\n",
        "\n",
        "# -------------------------------\n",
        "\n",
        "study = optuna.create_study(direction=\"minimize\")\n",
        "study.optimize(objective, n_trials=300, show_progress_bar=True)\n",
        "\n",
        "# -------------------------------\n",
        "\n",
        "print(\"Best RMSE:\", study.best_value)\n",
        "print(\"Best model & hyperparameters:\", study.best_trial.params)\n"
      ]
    },
    {
      "cell_type": "code",
      "execution_count": null,
      "metadata": {
        "colab": {
          "base_uri": "https://localhost:8080/"
        },
        "id": "6tlNVErjE5Mm",
        "outputId": "328b7373-9493-4bb2-ca7c-d13a5468bda7"
      },
      "outputs": [],
      "source": [
        "from catboost import CatBoostRegressor\n",
        "\n",
        "# -------------------------------\n",
        "# Best hyperparameters\n",
        "best_params = {\n",
        "    'iterations': 496,\n",
        "    'depth': 6,\n",
        "    'learning_rate': 0.1327407810411538,\n",
        "    'random_state': 42,\n",
        "\n",
        "}\n",
        "model = CatBoostRegressor(**best_params)\n",
        "model.fit(X_train, y_train)\n",
        "preds = model.predict(X_test)\n",
        "rmse = np.sqrt(mean_squared_error(y_test, preds))\n",
        "print(\"RMSE:\", rmse)"
      ]
    },
    {
      "cell_type": "code",
      "execution_count": null,
      "metadata": {
        "colab": {
          "base_uri": "https://localhost:8080/"
        },
        "id": "7C9C6cuvE5fE",
        "outputId": "cf75a887-c50f-4d9c-a147-5ec1ab5277e2"
      },
      "outputs": [],
      "source": [
        "# Predict on same dataset (ya alag test set agar available ho)\n",
        "preds = model.predict(X_test)\n",
        "\n",
        "# Evaluate RMSE / R2\n",
        "from sklearn.metrics import mean_squared_error, r2_score\n",
        "import numpy as np\n",
        "\n",
        "rmse = np.sqrt(mean_squared_error(y_test, preds))\n",
        "r2 = r2_score(y_test, preds)\n",
        "\n",
        "print(\"RMSE:\", rmse)\n",
        "print(\"R2 Score:\", r2)\n"
      ]
    },
    {
      "cell_type": "code",
      "execution_count": null,
      "metadata": {
        "id": "fxF9tv55E55x"
      },
      "outputs": [],
      "source": [
        "from google.colab import output\n",
        "output.clear()  # removes widget metadata traces\n"
      ]
    },
    {
      "cell_type": "code",
      "execution_count": null,
      "metadata": {
        "id": "tvRNEvoVE6FT"
      },
      "outputs": [],
      "source": [
        "pip install xgboost lightgbm catboost optuna"
      ]
    },
    {
      "cell_type": "code",
      "execution_count": null,
      "metadata": {},
      "outputs": [],
      "source": []
    }
  ],
  "metadata": {
    "colab": {
      "provenance": []
    },
    "kernelspec": {
      "display_name": "Python 3",
      "name": "python3"
    },
    "language_info": {
      "codemirror_mode": {
        "name": "ipython",
        "version": 3
      },
      "file_extension": ".py",
      "mimetype": "text/x-python",
      "name": "python",
      "nbconvert_exporter": "python",
      "pygments_lexer": "ipython3",
      "version": "3.13.7"
    }
  },
  "nbformat": 4,
  "nbformat_minor": 0
}
